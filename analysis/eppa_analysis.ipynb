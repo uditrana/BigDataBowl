{
 "cells": [
  {
   "cell_type": "code",
   "execution_count": null,
   "metadata": {},
   "outputs": [],
   "source": [
    "import numpy as np\n",
    "import pandas as pd\n",
    "import os\n",
    "from pathlib import Path\n",
    "\n",
    "from IPython.display import HTML\n",
    "from tqdm import tqdm\n",
    "\n",
    "pd.set_option('display.max_columns', 100)\n",
    "pd.set_option('display.max_rows', 100)"
   ]
  },
  {
   "cell_type": "code",
   "execution_count": null,
   "metadata": {},
   "outputs": [],
   "source": [
    "path_shared = '../data/{}'\n",
    "games_df = pd.read_csv(path_shared.format('games.csv'))\n",
    "plays_df = pd.read_csv(path_shared.format('plays.csv'))\n",
    "players_df = pd.read_csv(path_shared.format('players.csv'))"
   ]
  },
  {
   "cell_type": "code",
   "execution_count": null,
   "metadata": {},
   "outputs": [],
   "source": [
    "out_dir_path = '../output/{}'"
   ]
  },
  {
   "cell_type": "markdown",
   "metadata": {},
   "source": [
    "#First time Ops to get cache"
   ]
  },
  {
   "cell_type": "code",
   "execution_count": null,
   "metadata": {},
   "outputs": [],
   "source": [
    "player_stats = pd.DataFrame()\n",
    "passes = pd.DataFrame()\n",
    "vals = []\n",
    "\n",
    "for week in range(1, 18):\n",
    "        for game_id in sorted(os.listdir(out_dir_path.format(f'{week}'))):\n",
    "            if os.path.isdir(out_dir_path.format(f'{week}/{game_id}')):\n",
    "                for play_id in sorted(os.listdir(out_dir_path.format(f'{week}/{game_id}'))):\n",
    "                    vals.append((week, game_id, play_id))\n",
    "\n",
    "for (w, gid, pid) in tqdm(vals):\n",
    "    with open(out_dir_path.format(f'{w}/{gid}/{pid}/player_stats.pkl'), 'rb') as f:\n",
    "        player_stats = player_stats.append(pd.read_pickle(f))\n",
    "    with open(out_dir_path.format(f'{w}/{gid}/{pid}/passes.pkl'), 'rb') as f:\n",
    "        passes = passes.append(pd.read_pickle(f))\n",
    "player_stats = player_stats.reset_index(drop=True)\n",
    "passes = passes.reset_index(drop=True)\n",
    "# player_stats = player_stats.loc[(player_stats.frameId>=14)&(player_stats.frameId<=47)]\n",
    "player_stats.head()"
   ]
  },
  {
   "cell_type": "code",
   "execution_count": null,
   "metadata": {},
   "outputs": [],
   "source": [
    "ep1t = passes.groupby(['gameId', 'playId']).eppa1_tot.nlargest(1).droplevel(2)\n",
    "ep2t = passes.groupby(['gameId', 'playId']).eppa2_tot.nlargest(1).droplevel(2)\n",
    "mep1xv = passes.groupby(['gameId', 'playId']).max_eppa1_eppa1_xval.nlargest(1).droplevel(2)\n",
    "mep2xv = passes.groupby(['gameId', 'playId']).max_eppa2_eppa2_xval.nlargest(1).droplevel(2)\n",
    "mep2xv"
   ]
  },
  {
   "cell_type": "code",
   "execution_count": null,
   "metadata": {},
   "outputs": [],
   "source": [
    "play_vals = pd.concat([ep1t, ep2t, mep1xv, mep2xv], axis=1).reset_index()\n",
    "play_vals"
   ]
  },
  {
   "cell_type": "code",
   "execution_count": null,
   "metadata": {},
   "outputs": [],
   "source": [
    "play_vals.to_pickle(out_dir_path.format('eppa_by_play.pkl'))"
   ]
  },
  {
   "cell_type": "markdown",
   "metadata": {},
   "source": [
    "#Read Cache"
   ]
  },
  {
   "cell_type": "code",
   "execution_count": null,
   "metadata": {},
   "outputs": [],
   "source": [
    "passes = pd.read_pickle(out_dir_path.format('all_passes.pkl'))\n",
    "player_stats = pd.read_pickle(out_dir_path.format('all_player_stats.pkl'))\n",
    "play_vals = pd.read_pickle(out_dir_path.format('eppa_by_play.pkl'))"
   ]
  },
  {
   "cell_type": "code",
   "execution_count": null,
   "metadata": {},
   "outputs": [],
   "source": [
    "passes.loc[(passes.gameId==2018120212)&(passes.playId==2971)]"
   ]
  },
  {
   "cell_type": "markdown",
   "metadata": {},
   "source": [
    "# Passes analysis"
   ]
  },
  {
   "cell_type": "code",
   "execution_count": null,
   "metadata": {},
   "outputs": [],
   "source": [
    "eppas = passes.sort_values(['gameId', 'playId', 'frameId']).groupby(['gameId', 'playId']).tail(1)[['gameId', 'playId', 'frameId' ,'off_team', 'def_team','eppa1_tot','max_eppa1_eppa1_xval','true_eppa1_xval', 'xepa_inc', 'true_ppc_off', 'true_ppc_def', 'true_xepa_comp', 'true_xepa']]\n",
    "eppas"
   ]
  },
  {
   "cell_type": "code",
   "execution_count": null,
   "metadata": {},
   "outputs": [],
   "source": [
    "plays_df.columns"
   ]
  },
  {
   "cell_type": "code",
   "execution_count": null,
   "metadata": {},
   "outputs": [],
   "source": [
    "epm = pd.merge(eppas, plays_df[['gameId', 'playId', 'epa', 'passResult']].loc[(plays_df.penaltyCodes.isnull())&((plays_df.passResult!='IN'))], how='left', on=['gameId', 'playId']).dropna()\n",
    "epm"
   ]
  },
  {
   "cell_type": "code",
   "execution_count": null,
   "metadata": {},
   "outputs": [],
   "source": [
    "from matplotlib import pyplot as plt\n",
    "\n",
    "y1 = epmf.true_eppa1_xval.to_numpy()\n",
    "x = epmf.true_xepa.to_numpy()\n",
    "plt.scatter(x, y1, label=f'true xval Correlation = {np.round(np.corrcoef(x,y1)[0,1], 2)}')\n",
    "\n",
    "# Plot\n",
    "plt.xlabel('True pass eppa xval vs xepa')\n",
    "plt.legend()\n",
    "plt.show()"
   ]
  },
  {
   "cell_type": "code",
   "execution_count": null,
   "metadata": {},
   "outputs": [],
   "source": [
    "x = epm.true_eppa1_xval.to_numpy()\n",
    "y1 = epmf.eppa1_tot.to_numpy()\n",
    "y2 = epmf.max_eppa1_eppa1_xval.to_numpy()\n",
    "plt.scatter(x, y1, label=f'eppa1_tot Correlation = {np.round(np.corrcoef(x,y1)[0,1], 2)}')\n",
    "plt.scatter(x, y2, label=f'eppa1_max Correlation = {np.round(np.corrcoef(x,y2)[0,1], 2)}')\n",
    "\n",
    "# Plot\n",
    "plt.xlabel('True pass xVal vs overall eppas')\n",
    "plt.legend()\n",
    "plt.show()"
   ]
  },
  {
   "cell_type": "code",
   "execution_count": null,
   "metadata": {},
   "outputs": [],
   "source": [
    "x = epm.true_xepa.to_numpy()\n",
    "y1 = epmf.eppa1_tot.to_numpy()\n",
    "y2 = epmf.max_eppa1_eppa1_xval.to_numpy()\n",
    "plt.scatter(x, y1, label=f'eppa1_tot Correlation = {np.round(np.corrcoef(x,y1)[0,1], 2)}')\n",
    "plt.scatter(x, y2, label=f'eppa1_max Correlation = {np.round(np.corrcoef(x,y2)[0,1], 2)}')\n",
    "\n",
    "# Plot\n",
    "plt.xlabel('True pass xepa vs overall eppas')\n",
    "plt.legend()\n",
    "plt.show()"
   ]
  },
  {
   "cell_type": "code",
   "execution_count": null,
   "metadata": {},
   "outputs": [],
   "source": [
    "x = passes.dropna().true_ppc_off.to_numpy()\n",
    "y1 = passes.dropna().true_pint_off.to_numpy()\n",
    "plt.scatter(x, y1, label=f'Correlation = {np.round(np.corrcoef(x,y1)[0,1], 2)}')\n",
    "\n",
    "# Plot\n",
    "plt.xlabel('Pint vs ppc')\n",
    "plt.legend()\n",
    "plt.show()"
   ]
  },
  {
   "cell_type": "code",
   "execution_count": null,
   "metadata": {},
   "outputs": [],
   "source": [
    "x = passes.dropna().max_eppa1_ppc_off.to_numpy()\n",
    "y1 = passes.dropna().max_eppa1_pint_off.to_numpy()\n",
    "plt.scatter(x, y1, label=f'Correlation = {np.round(np.corrcoef(x,y1)[0,1], 2)}')\n",
    "\n",
    "# Plot\n",
    "plt.xlabel('Pint vs ppc')\n",
    "plt.legend()\n",
    "plt.show()"
   ]
  },
  {
   "cell_type": "code",
   "execution_count": null,
   "metadata": {},
   "outputs": [],
   "source": [
    "epm.eppa1_tot.describe()"
   ]
  },
  {
   "cell_type": "code",
   "execution_count": null,
   "metadata": {},
   "outputs": [],
   "source": [
    "epmf = epm.loc[(epm.passResult=='C')&(epm.epa<4)&(epm.epa>-2)]\n",
    "x = epmf.epa.to_numpy()\n",
    "y1 = epmf.true_eppa1_xval.to_numpy()\n",
    "y2 = epmf.true_eppa2_xval.to_numpy()\n",
    "plt.scatter(x, y1, label=f'true_eppa1_xval Correlation = {np.round(np.corrcoef(x,y1)[0,1], 2)}')\n",
    "plt.scatter(x, y2, label=f'true_eppa2_xval Correlation = {np.round(np.corrcoef(x,y2)[0,1], 2)}')\n",
    "\n",
    "# Plot\n",
    "plt.title('Scatterplot and Correlations')\n",
    "plt.legend()\n",
    "plt.show()"
   ]
  },
  {
   "cell_type": "code",
   "execution_count": null,
   "metadata": {},
   "outputs": [],
   "source": [
    "epm['diff'] = epm.true_eppa2_xval-epm.epa\n",
    "epm.sort_values('diff')"
   ]
  },
  {
   "cell_type": "code",
   "execution_count": null,
   "metadata": {},
   "outputs": [],
   "source": [
    "epmf = epm.loc[(epm.passResult=='I')]\n",
    "\n",
    "x = epmf.epa.to_numpy()\n",
    "y1 = epmf.xepa_inc.to_numpy()\n",
    "plt.scatter(x, y1, label=f'true_eppa1_xval Correlation = {np.round(np.corrcoef(x,y1)[0,1], 2)}')\n",
    "\n",
    "# Plot\n",
    "plt.title('Scatterplot and Correlations')\n",
    "plt.legend()\n",
    "plt.show()"
   ]
  },
  {
   "cell_type": "code",
   "execution_count": null,
   "metadata": {},
   "outputs": [],
   "source": [
    "_, bins = pd.cut(passes.true_trans_ppc.dropna(), 10, retbins=True, precision=10)\n",
    "bins.round(5)"
   ]
  },
  {
   "cell_type": "code",
   "execution_count": null,
   "metadata": {},
   "outputs": [],
   "source": [
    "((passes.true_ppc_off).dropna()).plot.hist()"
   ]
  },
  {
   "cell_type": "code",
   "execution_count": null,
   "metadata": {},
   "outputs": [],
   "source": [
    "(passes.true_trans_ppc.dropna()*100000).quantile([0.001,0.005,0.01,0.05,0.1,0.2, 0.5, 0.8, 0.9, 0.95, 0.99, 0.995, 0.999])"
   ]
  },
  {
   "cell_type": "code",
   "execution_count": null,
   "metadata": {},
   "outputs": [],
   "source": []
  },
  {
   "cell_type": "code",
   "execution_count": null,
   "metadata": {},
   "outputs": [],
   "source": []
  },
  {
   "cell_type": "code",
   "execution_count": null,
   "metadata": {},
   "outputs": [],
   "source": []
  },
  {
   "cell_type": "markdown",
   "metadata": {},
   "source": [
    "# Player Stats"
   ]
  },
  {
   "cell_type": "code",
   "execution_count": null,
   "metadata": {},
   "outputs": [],
   "source": [
    "((passes.true_ppc_off**1.2).dropna()).plot.hist()"
   ]
  },
  {
   "cell_type": "code",
   "execution_count": null,
   "metadata": {},
   "outputs": [],
   "source": [
    "aggs.loc[(aggs.team_pos=='OFF')&(aggs[('ind_eppa1', 'count')]>2000)].sort_values(('ind_eppa1', 'mean'), ascending=False).round(3).head(10)"
   ]
  },
  {
   "cell_type": "code",
   "execution_count": null,
   "metadata": {},
   "outputs": [],
   "source": []
  }
 ],
 "metadata": {
  "kernelspec": {
   "display_name": "Python 3.8.2 64-bit",
   "metadata": {
    "interpreter": {
     "hash": "31f2aee4e71d21fbe5cf8b01ff0e069b9275f58929596ceb00d14d90e3e16cd6"
    }
   },
   "name": "python3"
  },
  "language_info": {
   "codemirror_mode": {
    "name": "ipython",
    "version": 3
   },
   "file_extension": ".py",
   "mimetype": "text/x-python",
   "name": "python",
   "nbconvert_exporter": "python",
   "pygments_lexer": "ipython3",
   "version": "3.8.2-final"
  },
  "orig_nbformat": 2
 },
 "nbformat": 4,
 "nbformat_minor": 2
}