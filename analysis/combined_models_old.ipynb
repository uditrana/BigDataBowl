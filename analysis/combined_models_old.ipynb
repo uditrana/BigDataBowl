{
  "cells": [
    {
      "cell_type": "code",
      "source": [
        "import numpy as np\n",
        "import pandas as pd\n",
        "\n",
        "from pandarallel import pandarallel\n",
        "pandarallel.initialize()\n",
        "\n",
        "from IPython.display import HTML\n",
        "\n",
        "pd.set_option('display.max_columns', 100)\n",
        "pd.set_option('display.max_rows', 100)\n"
      ],
      "outputs": [
        {
          "output_type": "stream",
          "name": "stdout",
          "text": [
            "INFO: Pandarallel will run on 2 workers.\n",
            "INFO: Pandarallel will use Memory file system to transfer data between the main process and workers.\n"
          ]
        }
      ],
      "execution_count": 10,
      "metadata": {
        "_cell_guid": "b1076dfc-b9ad-4769-8c92-a6c4dae69d19",
        "_uuid": "8f2839f25d086af736a60e9eeb907d3b93b6e0e5",
        "gather": {
          "logged": 1608267233304
        }
      }
    },
    {
      "cell_type": "code",
      "source": [
        "path_shared = '../data/{}'\n",
        "\n",
        "games_df = pd.read_csv(path_shared.format('games.csv'))\n",
        "plays_df = pd.read_csv(path_shared.format('plays.csv'))\n",
        "players_df = pd.read_csv(path_shared.format('players.csv'))\n",
        "track_df = pd.read_csv(path_shared.format('week1_norm.csv', usecols=['nflId', 'displayName', 'position', 'team_pos', 'x', 'y', 'v_x', 'v_y', 'v_mag', 'v_theta', 'a_x', 'a_y', 'a_mag', 'a_theta']))"
      ],
      "outputs": [],
      "execution_count": 12,
      "metadata": {
        "_cell_guid": "79c7e3d0-c299-4dcb-8224-4455121ee9b0",
        "_uuid": "d629ff2d2480ee46fbb7e2d37f6b5fab8052498a",
        "gather": {
          "logged": 1608267256445
        }
      }
    },
    {
      "cell_type": "code",
      "source": [
        "params = lambda: None # create an empty object to add params\n",
        "params.a_max = 6\n",
        "params.s_max = 9\n",
        "# params.reax_t = params.s_max/params.a_max\n",
        "params.reax_t = 0.2\n",
        "params.tti_sigma = 0.45\n",
        "params.cell_length = 1\n",
        "params.alpha = 1.05\n",
        "vars(params)"
      ],
      "outputs": [
        {
          "output_type": "execute_result",
          "execution_count": 44,
          "data": {
            "text/plain": "{'a_max': 6,\n 's_max': 9,\n 'reax_t': 0.2,\n 'tti_sigma': 0.45,\n 'cell_length': 1,\n 'alpha': 1.05}"
          },
          "metadata": {}
        }
      ],
      "execution_count": 44,
      "metadata": {
        "gather": {
          "logged": 1608276134484
        }
      }
    },
    {
      "cell_type": "code",
      "source": [
        "# deep lockett vs chiefs (16)\n",
        "# game_id = 2018122314\n",
        "# play_id = 4239\n",
        "\n",
        "# deep dissly vs bears (2)\n",
        "# game_id = 2018091700\n",
        "# play_id = 3936\n",
        "\n",
        "# deep middle insane gronk (1) \n",
        "game_id = 2018090905\n",
        "play_id = 2062\n",
        "\n",
        "# game_id = 2018091700\n",
        "# play_id = 1959\n",
        "\n",
        "# detroit red zone vs jets (1)\n",
        "game_id = 2018091000\n",
        "play_id = 3016\n",
        "\n",
        "# mullens to kittle, def by wagner (13)\n",
        "# game_id = 2018120213\n",
        "# play_id = 398\t\t\t\t\t\t\t\t\t\t\t\t\t\t\t\t\t\t\t\t\t\t\t\t\t\n",
        "\n",
        "# mullens to bobby, 98yd pick6 (13)\n",
        "# game_id = 2018120213\n",
        "# play_id = 3952\t\n",
        "\n",
        "# mahomes to tyreek, KJ defense (16)\n",
        "# game_id = 2018122314\n",
        "# play_id = 73\t\t\t\t\t\t\t\t\t\t\t\t\t\t\t\t\t\t\t\t\t\t\t\t\t\n",
        "\n",
        "# game_id, play_id = random.choice(plays)\n",
        "\n",
        "play_df = track_df[(track_df.playId == play_id) & (track_df.gameId == game_id)].sort_values(by = 'frameId')\n",
        "play_df.head()"
      ],
      "outputs": [
        {
          "output_type": "execute_result",
          "execution_count": 41,
          "data": {
            "text/plain": "            gameId  playId  frameId event      nflId       displayName  \\\n889671  2018091000    3016        1  None    79860.0  Matthew Stafford   \n889685  2018091000    3016        1  None        0.0          Football   \n889684  2018091000    3016        1  None  2561366.0      Frankie Luvu   \n889683  2018091000    3016        1  None  2558052.0    Kenny Golladay   \n889682  2018091000    3016        1  None  2557979.0       Jamal Adams   \n\n        jerseyNumber position position_general      team team_pos teamAbbr  \\\n889671           9.0       QB               QB      home      OFF      DET   \n889685           NaN      NaN              NaN  football     FTBL     FTBL   \n889684          50.0       LB               LB      away      DEF      NYJ   \n889683          19.0       WR               WR      home      OFF      DET   \n889682          33.0       SS                S      away      DEF      NYJ   \n\n       route                      time    los      x      y   dis       o  \\\n889671   NaN  2018-09-11T01:46:06.900Z  82.88  78.56  30.01  0.00   83.25   \n889685   NaN  2018-09-11T01:46:06.900Z  82.88  83.43  29.86  0.00     NaN   \n889684   NaN  2018-09-11T01:46:06.900Z  82.88  84.46  27.04  0.02  290.89   \n889683    IN  2018-09-11T01:46:06.900Z  82.88  82.86  11.83  0.00   81.11   \n889682   NaN  2018-09-11T01:46:06.900Z  82.88  87.96  35.89  0.04  236.49   \n\n           s   s_dir  s_dir_rad   v_x   v_y  v_theta  v_mag  a_old  a_x  a_y  \\\n889671  0.00   99.57       1.74  0.00 -0.00     0.00   0.00   0.00  0.0  0.0   \n889685  0.00     NaN        NaN  0.00  0.00     0.00   0.00   0.00  0.0  0.0   \n889684  0.09  231.11       4.03 -0.07 -0.06     0.68   0.09   0.02  0.0  0.0   \n889683  0.00    0.43       0.01  0.00  0.00     0.00   0.00   0.00  0.0  0.0   \n889682  0.17  188.67       3.29 -0.03 -0.17     1.42   0.17   0.14  0.0  0.0   \n\n        a_theta  a_mag  \n889671      0.0    0.0  \n889685      0.0    0.0  \n889684      0.0    0.0  \n889683      0.0    0.0  \n889682      0.0    0.0  ",
            "text/html": "<div>\n<style scoped>\n    .dataframe tbody tr th:only-of-type {\n        vertical-align: middle;\n    }\n\n    .dataframe tbody tr th {\n        vertical-align: top;\n    }\n\n    .dataframe thead th {\n        text-align: right;\n    }\n</style>\n<table border=\"1\" class=\"dataframe\">\n  <thead>\n    <tr style=\"text-align: right;\">\n      <th></th>\n      <th>gameId</th>\n      <th>playId</th>\n      <th>frameId</th>\n      <th>event</th>\n      <th>nflId</th>\n      <th>displayName</th>\n      <th>jerseyNumber</th>\n      <th>position</th>\n      <th>position_general</th>\n      <th>team</th>\n      <th>team_pos</th>\n      <th>teamAbbr</th>\n      <th>route</th>\n      <th>time</th>\n      <th>los</th>\n      <th>x</th>\n      <th>y</th>\n      <th>dis</th>\n      <th>o</th>\n      <th>s</th>\n      <th>s_dir</th>\n      <th>s_dir_rad</th>\n      <th>v_x</th>\n      <th>v_y</th>\n      <th>v_theta</th>\n      <th>v_mag</th>\n      <th>a_old</th>\n      <th>a_x</th>\n      <th>a_y</th>\n      <th>a_theta</th>\n      <th>a_mag</th>\n    </tr>\n  </thead>\n  <tbody>\n    <tr>\n      <th>889671</th>\n      <td>2018091000</td>\n      <td>3016</td>\n      <td>1</td>\n      <td>None</td>\n      <td>79860.0</td>\n      <td>Matthew Stafford</td>\n      <td>9.0</td>\n      <td>QB</td>\n      <td>QB</td>\n      <td>home</td>\n      <td>OFF</td>\n      <td>DET</td>\n      <td>NaN</td>\n      <td>2018-09-11T01:46:06.900Z</td>\n      <td>82.88</td>\n      <td>78.56</td>\n      <td>30.01</td>\n      <td>0.00</td>\n      <td>83.25</td>\n      <td>0.00</td>\n      <td>99.57</td>\n      <td>1.74</td>\n      <td>0.00</td>\n      <td>-0.00</td>\n      <td>0.00</td>\n      <td>0.00</td>\n      <td>0.00</td>\n      <td>0.0</td>\n      <td>0.0</td>\n      <td>0.0</td>\n      <td>0.0</td>\n    </tr>\n    <tr>\n      <th>889685</th>\n      <td>2018091000</td>\n      <td>3016</td>\n      <td>1</td>\n      <td>None</td>\n      <td>0.0</td>\n      <td>Football</td>\n      <td>NaN</td>\n      <td>NaN</td>\n      <td>NaN</td>\n      <td>football</td>\n      <td>FTBL</td>\n      <td>FTBL</td>\n      <td>NaN</td>\n      <td>2018-09-11T01:46:06.900Z</td>\n      <td>82.88</td>\n      <td>83.43</td>\n      <td>29.86</td>\n      <td>0.00</td>\n      <td>NaN</td>\n      <td>0.00</td>\n      <td>NaN</td>\n      <td>NaN</td>\n      <td>0.00</td>\n      <td>0.00</td>\n      <td>0.00</td>\n      <td>0.00</td>\n      <td>0.00</td>\n      <td>0.0</td>\n      <td>0.0</td>\n      <td>0.0</td>\n      <td>0.0</td>\n    </tr>\n    <tr>\n      <th>889684</th>\n      <td>2018091000</td>\n      <td>3016</td>\n      <td>1</td>\n      <td>None</td>\n      <td>2561366.0</td>\n      <td>Frankie Luvu</td>\n      <td>50.0</td>\n      <td>LB</td>\n      <td>LB</td>\n      <td>away</td>\n      <td>DEF</td>\n      <td>NYJ</td>\n      <td>NaN</td>\n      <td>2018-09-11T01:46:06.900Z</td>\n      <td>82.88</td>\n      <td>84.46</td>\n      <td>27.04</td>\n      <td>0.02</td>\n      <td>290.89</td>\n      <td>0.09</td>\n      <td>231.11</td>\n      <td>4.03</td>\n      <td>-0.07</td>\n      <td>-0.06</td>\n      <td>0.68</td>\n      <td>0.09</td>\n      <td>0.02</td>\n      <td>0.0</td>\n      <td>0.0</td>\n      <td>0.0</td>\n      <td>0.0</td>\n    </tr>\n    <tr>\n      <th>889683</th>\n      <td>2018091000</td>\n      <td>3016</td>\n      <td>1</td>\n      <td>None</td>\n      <td>2558052.0</td>\n      <td>Kenny Golladay</td>\n      <td>19.0</td>\n      <td>WR</td>\n      <td>WR</td>\n      <td>home</td>\n      <td>OFF</td>\n      <td>DET</td>\n      <td>IN</td>\n      <td>2018-09-11T01:46:06.900Z</td>\n      <td>82.88</td>\n      <td>82.86</td>\n      <td>11.83</td>\n      <td>0.00</td>\n      <td>81.11</td>\n      <td>0.00</td>\n      <td>0.43</td>\n      <td>0.01</td>\n      <td>0.00</td>\n      <td>0.00</td>\n      <td>0.00</td>\n      <td>0.00</td>\n      <td>0.00</td>\n      <td>0.0</td>\n      <td>0.0</td>\n      <td>0.0</td>\n      <td>0.0</td>\n    </tr>\n    <tr>\n      <th>889682</th>\n      <td>2018091000</td>\n      <td>3016</td>\n      <td>1</td>\n      <td>None</td>\n      <td>2557979.0</td>\n      <td>Jamal Adams</td>\n      <td>33.0</td>\n      <td>SS</td>\n      <td>S</td>\n      <td>away</td>\n      <td>DEF</td>\n      <td>NYJ</td>\n      <td>NaN</td>\n      <td>2018-09-11T01:46:06.900Z</td>\n      <td>82.88</td>\n      <td>87.96</td>\n      <td>35.89</td>\n      <td>0.04</td>\n      <td>236.49</td>\n      <td>0.17</td>\n      <td>188.67</td>\n      <td>3.29</td>\n      <td>-0.03</td>\n      <td>-0.17</td>\n      <td>1.42</td>\n      <td>0.17</td>\n      <td>0.14</td>\n      <td>0.0</td>\n      <td>0.0</td>\n      <td>0.0</td>\n      <td>0.0</td>\n    </tr>\n  </tbody>\n</table>\n</div>"
          },
          "metadata": {}
        }
      ],
      "execution_count": 41,
      "metadata": {
        "gather": {
          "logged": 1608273439195
        }
      }
    },
    {
      "cell_type": "code",
      "source": [
        "dt = np.float32"
      ],
      "outputs": [],
      "execution_count": 13,
      "metadata": {
        "gather": {
          "logged": 1608267308807
        }
      }
    },
    {
      "cell_type": "code",
      "source": [
        "# input: tracking frame\n",
        "# output: (all, off, def, no) int probability of each pass (F, T)\n",
        "def comp_prob(play_frame_group):\n",
        "    # remove ball and qb from df\n",
        "    frame_df = play_frame_group.loc[(play_df.nflId!=0)]\n",
        "    ball_start = frame_df.loc[frame_df.position=='QB'][['x', 'y']].iloc[0].round().to_numpy(dtype=dt)\n",
        "    frame_df = frame_df.loc[frame_df.position!='QB']\n",
        "    \n",
        "    # project motion by reaction time\n",
        "    frame_df['v_x_r'] = frame_df.a_x*params.reax_t+frame_df.v_x\n",
        "    frame_df['v_y_r'] = frame_df.a_y*params.reax_t+frame_df.v_y\n",
        "    frame_df['v_r_mag'] = np.linalg.norm(np.array([frame_df.v_x_r, frame_df.v_y_r]), axis=0)\n",
        "    frame_df['v_r_theta'] = np.arctan(frame_df.v_y_r/frame_df.v_x_r).fillna(0)\n",
        "    frame_df['x_r'] = frame_df.x + frame_df.v_x*params.reax_t + 0.5*frame_df.a_x*params.reax_t**2\n",
        "    frame_df['y_r'] = frame_df.y + frame_df.v_y*params.reax_t + 0.5*frame_df.a_y*params.reax_t**2\n",
        "\n",
        "    # generate pass arrays\n",
        "    x = np.linspace(0.5, 119.5, 120, dtype=dt)\n",
        "    y = np.linspace(-0.5, 53.5, 55, dtype=dt)\n",
        "    y[0] = -0.2\n",
        "    xx, yy = np.meshgrid(x, y)\n",
        "    field_locs = np.stack((xx, yy)).reshape(2, -1).T  # (F, 2)\n",
        "    T = np.linspace(0.1, 4, 40, dtype=dt) # (T,)\n",
        "\n",
        "    player_teams = frame_df['team_pos'].to_numpy() # J,\n",
        "    player_ids = frame_df['nflId'].to_numpy()\n",
        "    reaction_player_locs = frame_df[['x_r', 'y_r']].to_numpy(dtype=dt) # (J, 2)\n",
        "    reaction_player_vels = frame_df[['v_x_r', 'v_y_r']].to_numpy(dtype=dt) #(J,2)\n",
        "\n",
        "    # intercept vector between each player and field location\n",
        "    int_d_vec = field_locs[:, None, :] - reaction_player_locs #F, J, 2\n",
        "    int_d_mag = np.linalg.norm(int_d_vec, axis=2) # F, J\n",
        "    #projecting player velocity on d_vec to get initial speed along d_vec\n",
        "    int_s0 = np.clip(np.sum(int_d_vec*reaction_player_vels, axis=2)/int_d_mag, -params.s_max, params.s_max) #F, J,\n",
        "\n",
        "    # calculate time to int based on phys model\n",
        "    t_lt_smax = (params.s_max-int_s0)/params.a_max  #F, J,\n",
        "    d_lt_smax = t_lt_smax*((int_s0+params.s_max)/2) #F, J,\n",
        "    d_at_smax = int_d_mag - d_lt_smax               #F, J,\n",
        "    t_at_smax = d_at_smax/params.s_max              #F, J,\n",
        "    t_tot = t_lt_smax+t_at_smax+params.reax_t       #F, J,\n",
        "\n",
        "    # int success if T-t_tot = dT <  0. Put through sigmoid to add temporal uncertainty around \n",
        "    int_dT = T[None,:,None] - t_tot[:,None,:]         #F, T, J\n",
        "    p_int = (1/(1. + np.exp( -np.pi/np.sqrt(3.0)/params.tti_sigma * int_dT, dtype=dt) )) #F, T, J\n",
        "    # use p_int as memoized values for integration\n",
        "\n",
        "    # trajectory integration\n",
        "    g = 10.72468 #y/s/s\n",
        "    reach_vecs = ball_start - field_locs  # (F, 2)\n",
        "    dx = -reach_vecs[:, 0] #F\n",
        "    dy = -reach_vecs[:, 1] #F\n",
        "    vx = dx[:, None]/T[None, :]   #F, T\n",
        "    vy = dy[:, None]/T[None, :]   #F, T\n",
        "    vz_0 = (T*g)/2                #T\n",
        "\n",
        "    # note that idx (i, j, k) into below arrays is invalid when j < k\n",
        "    traj_ts = np.tile(T, (len(field_locs), len(T), 1)) #(F, T, T)\n",
        "    traj_locs_x_idx = np.rint(np.clip((ball_start[0]+vx[:, :, None]*T), 0, len(x)-1)).astype(int) # F, T, T\n",
        "    traj_locs_y_idx = np.rint(np.clip((ball_start[1]+vy[:, :, None]*T), 0, len(y)-1)).astype(int) # F, T, T\n",
        "    traj_locs_z = 2.0+vz_0[None, :, None]*traj_ts-0.5*g*traj_ts*traj_ts #F, T, T\n",
        "    path_idxs = np.ravel_multi_index(np.stack((traj_locs_y_idx, traj_locs_x_idx)).reshape(2, -1), xx.shape)  # (F*T*T,)\n",
        "    traj_t_idxs = np.rint(10*traj_ts - 1).flatten().astype(int)  # (F, T, T)\n",
        "    p_int_traj = p_int[path_idxs, traj_t_idxs] # F*T*T, J\n",
        "    p_int_traj = p_int_traj.reshape((*traj_locs_x_idx.shape, len(reaction_player_locs)))  # F, T, T, J\n",
        "    \n",
        "    # account for ball height on traj and normalize each locations int probability\n",
        "    lambda_z = np.where((traj_locs_z<3)&(traj_locs_z>0), 1, 0) #F, T, T # maybe change this to a normal distribution \n",
        "    p_int_traj = p_int_traj * lambda_z[:, :, :, None]\n",
        "    norm_factor = np.maximum(1., p_int_traj.sum(axis=-1))  #F, T, T\n",
        "    p_int_traj_norm = (p_int_traj/norm_factor[..., None])  #F, T, T, J\n",
        "\n",
        "    # independent int probs at each point on trajectory\n",
        "    all_p_int_traj = np.sum(p_int_traj_norm, axis=-1)  # F, T, T\n",
        "    off_p_int_traj = np.sum(p_int_traj_norm, axis=-1, where=(player_teams=='OFF'))\n",
        "    def_p_int_traj = np.sum(p_int_traj_norm, axis=-1, where=(player_teams=='DEF'))\n",
        "    ind_p_int_traj = p_int_traj_norm #use for analyzing specific players\n",
        "\n",
        "    # calc decaying residual probs after you take away p_int on earlier times in the traj \n",
        "    compl_all_p_int_traj = 1-all_p_int_traj  # F, T, T\n",
        "    remaining_compl_p_int_traj = np.cumprod(compl_all_p_int_traj, axis=-1)  # F, T, T\n",
        "    # maximum 0 because if it goes negative the pass has been caught by then and theres no residual probability\n",
        "    shift_compl_cumsum = np.roll(remaining_compl_p_int_traj, 1, axis=-1)  # F, T, T\n",
        "    shift_compl_cumsum[:, :, 0] = 1\n",
        "    \n",
        "    # multiply residual prob by p_int at that location\n",
        "    all_completion_prob_dt = shift_compl_cumsum * all_p_int_traj  # F, T, T\n",
        "    off_completion_prob_dt = shift_compl_cumsum * off_p_int_traj  # F, T, T\n",
        "    def_completion_prob_dt = shift_compl_cumsum * def_p_int_traj  # F, T, T\n",
        "    \n",
        "    # now accumulate values over total traj for each team and take at T=t\n",
        "    all_completion_prob = np.cumsum(all_completion_prob_dt, axis=-1)  # F, T, T\n",
        "    off_completion_prob = np.cumsum(off_completion_prob_dt, axis=-1)  # F, T, T\n",
        "    def_completion_prob = np.cumsum(def_completion_prob_dt, axis=-1)  # F, T, T\n",
        "\n",
        "        #     #### Toy example\n",
        "#         all_p_int_traj = [0, 0, 0.1, 0.2, 0.8, 0.8]\n",
        "#         c_all_p_int_traj=[1, 1, 0.9, 0.8, 0.2, 0.2]\n",
        "#         rem_compl_p_int_traj = [1, 1, 0.9, 0.72, 0.144, 0.0288]\n",
        "#         0.1 + 0.9*0.2 + 0.72 * 0.8 + 0.144*0.8 = 0.9712\n",
        "#         adjust_compl_prob =        [0, 0, 0.1, 0.28, 0.84, 0.84]\n",
        "\n",
        "\n",
        "    # this einsum takes the diagonal values over the last two axes where T = t\n",
        "    # this takes care of the t > T issue.\n",
        "    all_p_int_pass = np.einsum('ijj->ij', all_completion_prob)  # F, T\n",
        "    off_p_int_pass = np.einsum('ijj->ij', off_completion_prob)  # F, T\n",
        "    def_p_int_pass = np.einsum('ijj->ij', def_completion_prob)  # F, T\n",
        "    no_p_int_pass = 1-all_p_int_pass\n",
        "\n",
        "    assert np.allclose(all_p_int_pass, off_p_int_pass + def_p_int_pass, atol=0.01)\n",
        "    return (off_p_int_pass, def_p_int_pass)\n",
        "\n",
        "    # below gets cutoff for combined model\n",
        "    # this is only for viz (in reality want to keep F, T above and mult by value/transition prob)\n",
        "    field_p_int_all = all_p_int_pass.mean(axis=1)  # F,\n",
        "    field_p_int_off = off_p_int_pass.mean(axis=1)  # F, \n",
        "    field_p_int_def = def_p_int_pass.mean(axis=1)  # F,\n",
        "    field_p_no_int = 1-field_p_int_all\n",
        "    assert np.allclose(field_p_int_all, field_p_int_off + field_p_int_def, atol=0.01)\n",
        "    assert np.all(field_p_int_all <= 1.01) and np.all(field_p_int_all >= -0.01)\n",
        "    assert np.all(field_p_int_off <= 1.01) and np.all(field_p_int_off >= -0.01)\n",
        "    assert np.all(field_p_int_def <= 1.01) and np.all(field_p_int_def >= -0.01)\n",
        "\n",
        "    field_df = pd.DataFrame({\n",
        "        'ball_start_x': ball_start[0],\n",
        "        'ball_start_y': ball_start[1], \n",
        "        'ball_end_x': field_locs[:,0],\n",
        "        'ball_end_y': field_locs[:,1],\n",
        "        'p_mass_1': (((field_p_int_off-field_p_int_def)+1.)/2.).round(3),\n",
        "        'p_mass_2': field_p_no_int.round(3),\n",
        "        # 'p_mass_players': p_int_norm,\n",
        "    })\n",
        "\n",
        "    return field_df"
      ],
      "outputs": [],
      "execution_count": 42,
      "metadata": {
        "gather": {
          "logged": 1608273443255
        }
      }
    },
    {
      "cell_type": "code",
      "source": [
        "T = np.linspace(0.1, 4, 40)\n",
        "L_given_ts = np.load('in/L_given_t.npy')\n",
        "T_given_Ls_df = pd.read_pickle('in/T_given_L.pkl')\n",
        "x = np.linspace(0.5, 119.5, 120, dtype=dt)\n",
        "y = np.linspace(-0.5, 53.5, 55, dtype=dt)\n",
        "y[0] = -0.2\n",
        "xx, yy = np.meshgrid(x, y)\n",
        "field_locs = np.stack((xx, yy)).reshape(2, -1).T  # (F, 2)\n",
        "# from L_given_t in historical notebook\n",
        "x_min, x_max = -9, 70\n",
        "y_min, y_max = -39, 40\n",
        "\n",
        "# input: qb_loc (2,), t=frames_after_snap (int)\n",
        "# output: (P(L,T)|t) int probability of each pass (F, T)\n",
        "def hist_trans_prob(ball_start, t):\n",
        "    # frame_df = play_frame_group.loc[(play_df.nflId!=0)]\n",
        "    # ball_start = frame_df.loc[frame_df.position=='QB', ['x', 'y']].iloc[0].round(0).to_numpy(dtype=int)\n",
        "    reach_vecs = np.rint(field_locs - ball_start).astype(int)  # (F, 2)\n",
        "    reach_dist = np.rint(np.linalg.norm(reach_vecs, axis=1)).astype(int)  # (F,)\n",
        "    # t = play_frame_group.name[2] - 11  # adjust to frames after snap\n",
        "    \n",
        "    \"\"\" P(L|t) \"\"\"\n",
        "    # mask for zeroing out parts of the field that are too far to be thrown to per the L_given_t model\n",
        "    L_t_mask = np.zeros_like(xx, dtype=dt)  # (Y, X)\n",
        "    L_t_mask[max(ball_start[1]+y_min,0):min(ball_start[1]+y_max,len(y)-1),\\\n",
        "             max(ball_start[0]+x_min,0):min(ball_start[0]+x_max,len(x)-1)] = 1.\n",
        "    L_t_mask = L_t_mask.flatten()  # (F,)\n",
        "    # we clip reach vecs to be used to index into L_given_t.\n",
        "    # eg if qb is far right, then the left field will be clipped to y=-39 and later zeroed out\n",
        "    clipped_reach_vecs = np.stack((np.clip(reach_vecs[:,0], x_min, x_max),\n",
        "                                  np.clip(reach_vecs[:,1], y_min, y_max)))  # (2, F)\n",
        "    L_given_t = L_given_ts[t, clipped_reach_vecs[1], clipped_reach_vecs[0]] * L_t_mask  # (F,) ; index with y and then x\n",
        "    L_given_t /= L_given_t.sum()  # renormalize since part of L|t may have been off field\n",
        "    \n",
        "    \"\"\" P(T|L) \"\"\"\n",
        "    # we find T|L for sufficiently close spots (1 < L <= 60)\n",
        "    reach_dist_in_bounds_idx = (reach_dist > 1) & (reach_dist <= 60)\n",
        "    reach_dist_in_bounds = reach_dist[reach_dist_in_bounds_idx]\n",
        "    T_given_L_subset = T_given_Ls_df.set_index('dist').loc[reach_dist_in_bounds, 'p'].to_numpy()\\\n",
        "        .reshape(len(reach_dist_in_bounds), -1)  # (F~, T) ; F~ is subset of F that is in [1, 60] yds from ball\n",
        "    T_given_L = np.zeros((len(field_locs), len(T)))  # (F, T)\n",
        "    # fill in the subset of values computed above\n",
        "    T_given_L[reach_dist_in_bounds_idx] = T_given_L_subset\n",
        "    \n",
        "    L_T_given_t = L_given_t[:,None] * T_given_L #(F, T)\n",
        "    return L_T_given_t"
      ],
      "outputs": [],
      "execution_count": 43,
      "metadata": {
        "gather": {
          "logged": 1608273444956
        }
      }
    },
    {
      "cell_type": "code",
      "source": [
        "# input: tracking frame\n",
        "# output: frame_eppa (F, T)... (writes intermediate F,T to disk)\n",
        "def frame_eppa(play_frame_group):\n",
        "    ball_start = play_frame_group.loc[play_frame_group.position=='QB', ['x', 'y']].iloc[0].round(0).to_numpy(dtype=int)\n",
        "    t = play_frame_group.name[2] - 11\n",
        "    \n",
        "    (ppc_off, ppc_def) = comp_prob(play_frame_group)\n",
        "    h_trans_prob = hist_trans_prob(ball_start, t)\n",
        "    assert(h_trans_prob.shape == ppc_off.shape)\n",
        "    \n",
        "    ppc_old = (ppc_off-ppc_def+1)/2\n",
        "    ppc = ppc_off\n",
        "    ppc_no = 1-ppc_off-ppc_def\n",
        "    trans_prob = h_trans_prob * np.power(ppc, params.alpha)\n",
        " \n",
        "    eppa = ppc*trans_prob\n",
        "\n",
        "    x = np.linspace(0.5, 119.5, 120, dtype=dt)\n",
        "    y = np.linspace(-0.5, 53.5, 55, dtype=dt)\n",
        "    y[0] = -0.2\n",
        "    field_locs = np.stack(np.meshgrid(x, y)).reshape(2, -1).T  # (F, 2)\n",
        "         \n",
        "    field_df = pd.DataFrame({\n",
        "        'ball_end_x': field_locs[:,0],\n",
        "        'ball_end_y': field_locs[:,1],\n",
        "        'eppa': eppa.sum(axis=1),\n",
        "        'ppcf': ppc.sum(axis=1),\n",
        "        'ppcf_no': ppc_no.sum(axis=1),\n",
        "        'hist_trans': h_trans_prob.sum(axis=1),\n",
        "        'trans': trans_prob.sum(axis=1),\n",
        "        # 'ppc_off': ppc_off.sum(axis=1),\n",
        "        'ppcf_def': ppc_def.sum(axis=1),\n",
        "        'ppcf_old': ppc_old.sum(axis=1),\n",
        "        # 't_ppc_off': (trans_prob*ppc_off).sum(axis=1),\n",
        "        # 't_ppc_def': (trans_prob*ppc_def).sum(axis=1),\n",
        "        # 'txoff': (trans_prob*throw_int_prob_off).sum(axis=1),\n",
        "        # 'txdef': (trans_prob*throw_int_prob_def).sum(axis=1),\n",
        "    })\n",
        "    return field_df\n",
        "    "
      ],
      "outputs": [],
      "execution_count": 46,
      "metadata": {
        "gather": {
          "logged": 1608276502211
        }
      }
    },
    {
      "cell_type": "code",
      "source": [
        "%%time\r\n",
        "field_dfs = play_df.groupby(['gameId', 'playId', 'frameId']).apply(frame_eppa)\r\n",
        "field_dfs = field_dfs.reset_index(3, drop=True).reset_index()\r\n",
        "field_dfs.head()"
      ],
      "outputs": [],
      "execution_count": 48,
      "metadata": {
        "collapsed": true,
        "jupyter": {
          "source_hidden": false,
          "outputs_hidden": false
        },
        "nteract": {
          "transient": {
            "deleting": false
          }
        }
      }
    },
    {
      "cell_type": "code",
      "source": [
        "from visualize import AnimatePlay\n",
        "animated_play = AnimatePlay(field_dfs, 20, field_dfs.rename(columns={'comb_throw_int': 'p_mass_1'}))\n",
        "HTML(animated_play.ani.to_jshtml())"
      ],
      "outputs": [
        {
          "output_type": "error",
          "ename": "NameError",
          "evalue": "name 'good_df' is not defined",
          "traceback": [
            "\u001b[0;31m---------------------------------------------------------------------------\u001b[0m",
            "\u001b[0;31mNameError\u001b[0m                                 Traceback (most recent call last)",
            "\u001b[0;32m<ipython-input-22-0a5dac31e0d4>\u001b[0m in \u001b[0;36m<module>\u001b[0;34m\u001b[0m\n\u001b[1;32m      1\u001b[0m \u001b[0;32mfrom\u001b[0m \u001b[0mvisualize\u001b[0m \u001b[0;32mimport\u001b[0m \u001b[0mAnimatePlay\u001b[0m\u001b[0;34m\u001b[0m\u001b[0;34m\u001b[0m\u001b[0m\n\u001b[0;32m----> 2\u001b[0;31m \u001b[0manimated_play\u001b[0m \u001b[0;34m=\u001b[0m \u001b[0mAnimatePlay\u001b[0m\u001b[0;34m(\u001b[0m\u001b[0mgood_df\u001b[0m\u001b[0;34m,\u001b[0m \u001b[0;36m20\u001b[0m\u001b[0;34m,\u001b[0m \u001b[0mfield_dfs\u001b[0m\u001b[0;34m.\u001b[0m\u001b[0mrename\u001b[0m\u001b[0;34m(\u001b[0m\u001b[0mcolumns\u001b[0m\u001b[0;34m=\u001b[0m\u001b[0;34m{\u001b[0m\u001b[0;34m'comb_throw_int'\u001b[0m\u001b[0;34m:\u001b[0m \u001b[0;34m'p_mass_1'\u001b[0m\u001b[0;34m}\u001b[0m\u001b[0;34m)\u001b[0m\u001b[0;34m)\u001b[0m\u001b[0;34m\u001b[0m\u001b[0;34m\u001b[0m\u001b[0m\n\u001b[0m\u001b[1;32m      3\u001b[0m \u001b[0mHTML\u001b[0m\u001b[0;34m(\u001b[0m\u001b[0manimated_play\u001b[0m\u001b[0;34m.\u001b[0m\u001b[0mani\u001b[0m\u001b[0;34m.\u001b[0m\u001b[0mto_jshtml\u001b[0m\u001b[0;34m(\u001b[0m\u001b[0;34m)\u001b[0m\u001b[0;34m)\u001b[0m\u001b[0;34m\u001b[0m\u001b[0;34m\u001b[0m\u001b[0m\n",
            "\u001b[0;31mNameError\u001b[0m: name 'good_df' is not defined"
          ]
        }
      ],
      "execution_count": 22,
      "metadata": {}
    },
    {
      "cell_type": "markdown",
      "source": [
        "# Testing P(L,T|t)."
      ],
      "metadata": {}
    },
    {
      "cell_type": "code",
      "source": [
        "animated_play = AnimatePlay(good_df, 20, field_dfs.rename(columns={'transition': 'p_mass_1'}))\n",
        "HTML(animated_play.ani.to_jshtml())"
      ],
      "outputs": [],
      "execution_count": null,
      "metadata": {}
    },
    {
      "cell_type": "code",
      "source": [
        "animated_play = AnimatePlay(good_df, 20, field_dfs.rename(columns={'throw_int_off': 'p_mass_1'}))\n",
        "HTML(animated_play.ani.to_jshtml())"
      ],
      "outputs": [],
      "execution_count": null,
      "metadata": {}
    },
    {
      "cell_type": "code",
      "source": [
        "animated_play = AnimatePlay(good_df, 20, field_dfs.rename(columns={'txoff': 'p_mass_1'}))\n",
        "HTML(animated_play.ani.to_jshtml())"
      ],
      "outputs": [],
      "execution_count": null,
      "metadata": {}
    },
    {
      "cell_type": "code",
      "source": [
        "import time\n",
        "import traceback, sys, code\n",
        "\n",
        "g = play_df.groupby(['gameId', 'playId', 'frameId'])\n",
        "for name, group in list(g)[40:]:\n",
        "    start = time.time()\n",
        "    print(f'{name} started')\n",
        "    try: get_field_df(group)\n",
        "    except:\n",
        "        type, value, tb = sys.exc_info()\n",
        "        traceback.print_exc()\n",
        "        last_frame = lambda tb=tb: last_frame(tb.tb_next) if tb.tb_next else tb\n",
        "        frame = last_frame().tb_frame\n",
        "        ns = dict(frame.f_globals)\n",
        "        ns.update(frame.f_locals)\n",
        "        code.interact(local=ns)\n",
        "        # breakpoint()\n",
        "    print(f'{name} ended {time.time()-start} ')\n"
      ],
      "outputs": [
        {
          "output_type": "error",
          "ename": "NameError",
          "evalue": "name 'play_df' is not defined",
          "traceback": [
            "\u001b[0;31m---------------------------------------------------------------------------\u001b[0m",
            "\u001b[0;31mNameError\u001b[0m                                 Traceback (most recent call last)",
            "\u001b[0;32m<ipython-input-30-bb920900abbb>\u001b[0m in \u001b[0;36m<module>\u001b[0;34m\u001b[0m\n\u001b[1;32m      2\u001b[0m \u001b[0;32mimport\u001b[0m \u001b[0mtraceback\u001b[0m\u001b[0;34m,\u001b[0m \u001b[0msys\u001b[0m\u001b[0;34m,\u001b[0m \u001b[0mcode\u001b[0m\u001b[0;34m\u001b[0m\u001b[0;34m\u001b[0m\u001b[0m\n\u001b[1;32m      3\u001b[0m \u001b[0;34m\u001b[0m\u001b[0m\n\u001b[0;32m----> 4\u001b[0;31m \u001b[0mg\u001b[0m \u001b[0;34m=\u001b[0m \u001b[0mplay_df\u001b[0m\u001b[0;34m.\u001b[0m\u001b[0mgroupby\u001b[0m\u001b[0;34m(\u001b[0m\u001b[0;34m[\u001b[0m\u001b[0;34m'gameId'\u001b[0m\u001b[0;34m,\u001b[0m \u001b[0;34m'playId'\u001b[0m\u001b[0;34m,\u001b[0m \u001b[0;34m'frameId'\u001b[0m\u001b[0;34m]\u001b[0m\u001b[0;34m)\u001b[0m\u001b[0;34m\u001b[0m\u001b[0;34m\u001b[0m\u001b[0m\n\u001b[0m\u001b[1;32m      5\u001b[0m \u001b[0;32mfor\u001b[0m \u001b[0mname\u001b[0m\u001b[0;34m,\u001b[0m \u001b[0mgroup\u001b[0m \u001b[0;32min\u001b[0m \u001b[0mlist\u001b[0m\u001b[0;34m(\u001b[0m\u001b[0mg\u001b[0m\u001b[0;34m)\u001b[0m\u001b[0;34m[\u001b[0m\u001b[0;36m40\u001b[0m\u001b[0;34m:\u001b[0m\u001b[0;34m]\u001b[0m\u001b[0;34m:\u001b[0m\u001b[0;34m\u001b[0m\u001b[0;34m\u001b[0m\u001b[0m\n\u001b[1;32m      6\u001b[0m     \u001b[0mstart\u001b[0m \u001b[0;34m=\u001b[0m \u001b[0mtime\u001b[0m\u001b[0;34m.\u001b[0m\u001b[0mtime\u001b[0m\u001b[0;34m(\u001b[0m\u001b[0;34m)\u001b[0m\u001b[0;34m\u001b[0m\u001b[0;34m\u001b[0m\u001b[0m\n",
            "\u001b[0;31mNameError\u001b[0m: name 'play_df' is not defined"
          ]
        }
      ],
      "execution_count": 30,
      "metadata": {
        "tags": []
      }
    },
    {
      "cell_type": "code",
      "source": [
        "animated_play = AnimatePlay(good_df, 20, field_dfs.rename(columns={'throw_int_def': 'p_mass_1'}))\n",
        "HTML(animated_play.ani.to_jshtml())"
      ],
      "outputs": [
        {
          "output_type": "error",
          "ename": "NameError",
          "evalue": "name 'good_df' is not defined",
          "traceback": [
            "\u001b[0;31m---------------------------------------------------------------------------\u001b[0m",
            "\u001b[0;31mNameError\u001b[0m                                 Traceback (most recent call last)",
            "\u001b[0;32m<ipython-input-26-e2ab5f3277e5>\u001b[0m in \u001b[0;36m<module>\u001b[0;34m\u001b[0m\n\u001b[0;32m----> 1\u001b[0;31m \u001b[0manimated_play\u001b[0m \u001b[0;34m=\u001b[0m \u001b[0mAnimatePlay\u001b[0m\u001b[0;34m(\u001b[0m\u001b[0mgood_df\u001b[0m\u001b[0;34m,\u001b[0m \u001b[0;36m20\u001b[0m\u001b[0;34m,\u001b[0m \u001b[0mfield_dfs\u001b[0m\u001b[0;34m.\u001b[0m\u001b[0mrename\u001b[0m\u001b[0;34m(\u001b[0m\u001b[0mcolumns\u001b[0m\u001b[0;34m=\u001b[0m\u001b[0;34m{\u001b[0m\u001b[0;34m'throw_int_def'\u001b[0m\u001b[0;34m:\u001b[0m \u001b[0;34m'p_mass_1'\u001b[0m\u001b[0;34m}\u001b[0m\u001b[0;34m)\u001b[0m\u001b[0;34m)\u001b[0m\u001b[0;34m\u001b[0m\u001b[0;34m\u001b[0m\u001b[0m\n\u001b[0m\u001b[1;32m      2\u001b[0m \u001b[0mHTML\u001b[0m\u001b[0;34m(\u001b[0m\u001b[0manimated_play\u001b[0m\u001b[0;34m.\u001b[0m\u001b[0mani\u001b[0m\u001b[0;34m.\u001b[0m\u001b[0mto_jshtml\u001b[0m\u001b[0;34m(\u001b[0m\u001b[0;34m)\u001b[0m\u001b[0;34m)\u001b[0m\u001b[0;34m\u001b[0m\u001b[0;34m\u001b[0m\u001b[0m\n",
            "\u001b[0;31mNameError\u001b[0m: name 'good_df' is not defined"
          ]
        }
      ],
      "execution_count": 26,
      "metadata": {}
    },
    {
      "cell_type": "code",
      "source": [
        "animated_play = AnimatePlay(good_df, 20, field_dfs.rename(columns={'txdef': 'p_mass_1'}))\n",
        "HTML(animated_play.ani.to_jshtml())"
      ],
      "outputs": [],
      "execution_count": null,
      "metadata": {}
    },
    {
      "cell_type": "code",
      "source": [
        "animated_play = AnimatePlay(good_df, 20, field_dfs.rename(columns={'throw_no_int': 'p_mass_1'}))\n",
        "HTML(animated_play.ani.to_jshtml())"
      ],
      "outputs": [
        {
          "output_type": "error",
          "ename": "NameError",
          "evalue": "name 'good_df' is not defined",
          "traceback": [
            "\u001b[0;31m---------------------------------------------------------------------------\u001b[0m",
            "\u001b[0;31mNameError\u001b[0m                                 Traceback (most recent call last)",
            "\u001b[0;32m<ipython-input-28-c569db4de4d9>\u001b[0m in \u001b[0;36m<module>\u001b[0;34m\u001b[0m\n\u001b[0;32m----> 1\u001b[0;31m \u001b[0manimated_play\u001b[0m \u001b[0;34m=\u001b[0m \u001b[0mAnimatePlay\u001b[0m\u001b[0;34m(\u001b[0m\u001b[0mgood_df\u001b[0m\u001b[0;34m,\u001b[0m \u001b[0;36m20\u001b[0m\u001b[0;34m,\u001b[0m \u001b[0mfield_dfs\u001b[0m\u001b[0;34m.\u001b[0m\u001b[0mrename\u001b[0m\u001b[0;34m(\u001b[0m\u001b[0mcolumns\u001b[0m\u001b[0;34m=\u001b[0m\u001b[0;34m{\u001b[0m\u001b[0;34m'throw_no_int'\u001b[0m\u001b[0;34m:\u001b[0m \u001b[0;34m'p_mass_1'\u001b[0m\u001b[0;34m}\u001b[0m\u001b[0;34m)\u001b[0m\u001b[0;34m)\u001b[0m\u001b[0;34m\u001b[0m\u001b[0;34m\u001b[0m\u001b[0m\n\u001b[0m\u001b[1;32m      2\u001b[0m \u001b[0mHTML\u001b[0m\u001b[0;34m(\u001b[0m\u001b[0manimated_play\u001b[0m\u001b[0;34m.\u001b[0m\u001b[0mani\u001b[0m\u001b[0;34m.\u001b[0m\u001b[0mto_jshtml\u001b[0m\u001b[0;34m(\u001b[0m\u001b[0;34m)\u001b[0m\u001b[0;34m)\u001b[0m\u001b[0;34m\u001b[0m\u001b[0;34m\u001b[0m\u001b[0m\n",
            "\u001b[0;31mNameError\u001b[0m: name 'good_df' is not defined"
          ]
        }
      ],
      "execution_count": 28,
      "metadata": {}
    },
    {
      "cell_type": "code",
      "source": [
        "# tenT = np.linspace(1, 40, 40)\n",
        "# import scipy.stats as stats\n",
        "# def get_L_T_given_t(play_frame_group):\n",
        "#     frame_id = play_frame_group.name[2]\n",
        "#     if frame_id < 21 or frame_id>74:\n",
        "#         return\n",
        "#     alpha, theta = T_given_ts.loc[T_given_ts.index == frame_id].iloc[0]\n",
        "#     T_given_t = stats.gamma.pdf(tenT, a=alpha, loc=0, scale=theta)\n",
        "#     L_given_T = get_L_given_T(play_frame_group)  # (F, T)\n",
        "#     L_given_t = (L_given_T * T_given_t).sum(axis=1, keepdims=True)  # (F, 1) ; P(L|t) = \\sum_x P(L|T=x)P(T=x|t)\n",
        "#     T_given_L = T_given_Ls[np.round(play_frame_group.los.iloc[0]).astype(int)]  # (F, T)\n",
        "#     L_T_given_t = L_given_t * T_given_L  # (F, T)\n",
        "#     return L_T_given_t"
      ],
      "outputs": [],
      "execution_count": 18,
      "metadata": {
        "gather": {
          "logged": 1608270692088
        }
      }
    },
    {
      "cell_type": "code",
      "source": [
        "field_dfs['throw_int_off_def'] = ((field_dfs.throw_int_off-field_dfs.throw_int_def)+1.)/2.\n",
        "animated_play = AnimatePlay(good_df, 20, field_dfs.rename(columns={'throw_int_off_def': 'p_mass_1'}))\n",
        "HTML(animated_play.ani.to_jshtml())"
      ],
      "outputs": [
        {
          "output_type": "error",
          "ename": "NameError",
          "evalue": "name 'field_dfs' is not defined",
          "traceback": [
            "\u001b[0;31m---------------------------------------------------------------------------\u001b[0m",
            "\u001b[0;31mNameError\u001b[0m                                 Traceback (most recent call last)",
            "\u001b[0;32m<ipython-input-29-aeb6435dbae9>\u001b[0m in \u001b[0;36m<module>\u001b[0;34m\u001b[0m\n\u001b[0;32m----> 1\u001b[0;31m \u001b[0mfield_dfs\u001b[0m\u001b[0;34m[\u001b[0m\u001b[0;34m'throw_int_off_def'\u001b[0m\u001b[0;34m]\u001b[0m \u001b[0;34m=\u001b[0m \u001b[0;34m(\u001b[0m\u001b[0;34m(\u001b[0m\u001b[0mfield_dfs\u001b[0m\u001b[0;34m.\u001b[0m\u001b[0mthrow_int_off\u001b[0m\u001b[0;34m-\u001b[0m\u001b[0mfield_dfs\u001b[0m\u001b[0;34m.\u001b[0m\u001b[0mthrow_int_def\u001b[0m\u001b[0;34m)\u001b[0m\u001b[0;34m+\u001b[0m\u001b[0;36m1.\u001b[0m\u001b[0;34m)\u001b[0m\u001b[0;34m/\u001b[0m\u001b[0;36m2.\u001b[0m\u001b[0;34m\u001b[0m\u001b[0;34m\u001b[0m\u001b[0m\n\u001b[0m\u001b[1;32m      2\u001b[0m \u001b[0manimated_play\u001b[0m \u001b[0;34m=\u001b[0m \u001b[0mAnimatePlay\u001b[0m\u001b[0;34m(\u001b[0m\u001b[0mgood_df\u001b[0m\u001b[0;34m,\u001b[0m \u001b[0;36m20\u001b[0m\u001b[0;34m,\u001b[0m \u001b[0mfield_dfs\u001b[0m\u001b[0;34m.\u001b[0m\u001b[0mrename\u001b[0m\u001b[0;34m(\u001b[0m\u001b[0mcolumns\u001b[0m\u001b[0;34m=\u001b[0m\u001b[0;34m{\u001b[0m\u001b[0;34m'throw_int_off_def'\u001b[0m\u001b[0;34m:\u001b[0m \u001b[0;34m'p_mass_1'\u001b[0m\u001b[0;34m}\u001b[0m\u001b[0;34m)\u001b[0m\u001b[0;34m)\u001b[0m\u001b[0;34m\u001b[0m\u001b[0;34m\u001b[0m\u001b[0m\n\u001b[1;32m      3\u001b[0m \u001b[0mHTML\u001b[0m\u001b[0;34m(\u001b[0m\u001b[0manimated_play\u001b[0m\u001b[0;34m.\u001b[0m\u001b[0mani\u001b[0m\u001b[0;34m.\u001b[0m\u001b[0mto_jshtml\u001b[0m\u001b[0;34m(\u001b[0m\u001b[0;34m)\u001b[0m\u001b[0;34m)\u001b[0m\u001b[0;34m\u001b[0m\u001b[0;34m\u001b[0m\u001b[0m\n",
            "\u001b[0;31mNameError\u001b[0m: name 'field_dfs' is not defined"
          ]
        }
      ],
      "execution_count": 29,
      "metadata": {}
    },
    {
      "cell_type": "code",
      "source": [
        "def get_L_given_T_old(play_frame_group):\n",
        "    frame_df = play_frame_group.loc[(play_df.nflId!=0)]\n",
        "    ball_start = frame_df.loc[frame_df.position=='QB', ['x', 'y']].iloc[0].round(0)\n",
        "    frame_df = frame_df.loc[frame_df.position!='QB']\n",
        "    pocket_width = 10\n",
        "\n",
        "    x = np.linspace(0.5, 119.5, 120, dtype=dt)\n",
        "    y = np.linspace(-0.5, 53.5, 55, dtype=dt)\n",
        "    y[0] = -0.2\n",
        "    field_locs = np.stack(np.meshgrid(x, y)).reshape(2, -1).T  # (F, 2)\n",
        "    \n",
        "    t = np.linspace(0.1, 4, 40)\n",
        "    receivers_df = frame_df.loc[(frame_df.team_pos == 'OFF') &\n",
        "                                 ((frame_df.x > frame_df.los) |\n",
        "                                  (frame_df.y > ball_start[1] + pocket_width // 2) |\n",
        "                                  (frame_df.y < ball_start[1] - pocket_width // 2)),\n",
        "                                 ['x', 'y', 'v_x', 'v_y', 'v_theta', 'v_mag', 'los', 'a_x', 'a_y']]\n",
        "    dist_from_ball_np = np.linalg.norm((receivers_df.x - ball_start[0],\n",
        "                                                     receivers_df.y - ball_start[1]), axis=0)\n",
        "    # find the spot the qb would aim at, leading the receiver in their current dir by the ball time\n",
        "    rec_x_np = receivers_df.x.to_numpy(dtype=dt)[:,None]\n",
        "    rec_y_np = receivers_df.y.to_numpy(dtype=dt)[:,None]\n",
        "    rec_v_x_np = receivers_df.v_x.to_numpy(dtype=dt)[:,None]\n",
        "    rec_v_y_np = receivers_df.v_y.to_numpy(dtype=dt)[:,None]\n",
        "    rec_a_x_np = receivers_df.a_x.to_numpy(dtype=dt)[:,None]\n",
        "    rec_a_y_np = receivers_df.a_y.to_numpy(dtype=dt)[:,None]\n",
        "    rec_v_theta_np = receivers_df.v_theta.to_numpy(dtype=dt)[:,None]\n",
        "    target_x = rec_x_np+rec_v_x_np*t+0.5*rec_a_x_np*t**2  # (R, T)\n",
        "    target_y = rec_y_np+rec_v_y_np*t+0.5*rec_a_y_np*t**2  # (R, T)\n",
        "    # receivers_df['target_x'] = receivers_df.x+receivers_df.v_x*receivers_df.dist_from_ball/params.avg_ball_speed\n",
        "    # receivers_df['target_y'] = receivers_df.y+receivers_df.v_y*receivers_df.dist_from_ball/params.avg_ball_speed\n",
        "\n",
        "    target_rec_locs = np.dstack((target_x, target_y))  # (R, T, 2)\n",
        "    dist_infl = np.minimum(10, 4+(dist_from_ball_np**2)/54)\n",
        "    speed_infl = (receivers_df.v_mag.to_numpy(dtype=dt)/11.3)**2\n",
        "    # (F, R, T, 2) showing the vec diff btwn Fth spot on field and Rth rec target spot\n",
        "    reach_vecs = field_locs[:,None,None,:] - target_rec_locs\n",
        "    # TODO uncomment below for likely speedup\n",
        "    # reach_vecs[np.linalg.norm(reach_vecs, axis=-1) > 20] = 0\n",
        "    Sigma_no_rot = np.array([[dist_infl * (1 + speed_infl), np.zeros_like(dist_infl)],\n",
        "                             [np.zeros_like(dist_infl), dist_infl * (1 - speed_infl)]]).transpose(2, 0, 1)  # (R, 2, 2)\n",
        "    rot = np.array([[np.cos(rec_v_theta_np), -np.sin(rec_v_theta_np)],\n",
        "                    [np.sin(rec_v_theta_np), np.cos(rec_v_theta_np)]])[..., 0].transpose(2, 0, 1)  # (R, 2, 2)\n",
        "    Sigma = np.einsum('...ji,...jk,...kl', rot, Sigma_no_rot, rot)  # (R, 2, 2)\n",
        "    \n",
        "    # (F, R, T) vectorized calc of reach_vec.T @ Sigma.inv @ reach_vec\n",
        "    gauss_top = np.einsum('...i,...ij,...j', reach_vecs.transpose(0, 2, 1, 3), np.linalg.inv(Sigma), reach_vecs.transpose(0, 2, 1, 3)).transpose(0, 2, 1)\n",
        "    # assumption that cov mtx is const over time\n",
        "    gauss_bottom = np.broadcast_to(2*np.pi*np.sqrt(np.linalg.det(Sigma))[:,None], (len(rec_x_np), len(t)))  # (R, T)  bivariate Gaussian normalizer\n",
        "    # (F, R, T). (i, j, k) element is probability that spot i on field is thrown to given receiver j is targeted on a throw taking k seconds\n",
        "    gauss_pdf = np.exp(-gauss_top/2) / gauss_bottom\n",
        "    \n",
        "    # assumption: each rec has uniform prob of being targeted. can use heuristic based on separation later\n",
        "    target_prob = gauss_pdf.sum(axis=1) / gauss_pdf.sum(axis=(0, 1))  # (F, T)\n",
        "    # 90%ile is a guess at this point. can tune it or use a heuristic of each rec getting a 50 sq yd window\n",
        "    #cutoff = np.percentile(target_prob, 90)\n",
        "    #target_prob[target_prob < cutoff] = 0\n",
        "#     target_prob_mesh = target_prob.reshape(len(y), len(x), len(t))\n",
        "#     field_df = pd.DataFrame({\n",
        "#         'ball_start_x': ball_start[0],\n",
        "#         'ball_start_y': ball_start[1],\n",
        "#         'ball_end_x': field_locs[:,0],\n",
        "#         'ball_end_y': field_locs[:,1],\n",
        "#         'cp_off': target_prob.mean(axis=1)\n",
        "#     })\n",
        "    return target_prob"
      ],
      "outputs": [],
      "execution_count": 14,
      "metadata": {
        "gather": {
          "logged": 1608268235608
        }
      }
    },
    {
      "cell_type": "code",
      "source": [
        "field_dfs.loc[(field_dfs.frameId==46)&(field_dfs.ball_end_x>60)&(field_dfs.ball_end_x<70)&(field_dfs.ball_end_y>10)&(field_dfs.ball_end_y<20)].sort_values('p_mass_1', ascending=False).head()"
      ],
      "outputs": [
        {
          "output_type": "error",
          "ename": "NameError",
          "evalue": "name 'field_dfs' is not defined",
          "traceback": [
            "\u001b[0;31m---------------------------------------------------------------------------\u001b[0m",
            "\u001b[0;31mNameError\u001b[0m                                 Traceback (most recent call last)",
            "\u001b[0;32m<ipython-input-31-81a8c9b411b0>\u001b[0m in \u001b[0;36m<module>\u001b[0;34m\u001b[0m\n\u001b[0;32m----> 1\u001b[0;31m \u001b[0mfield_dfs\u001b[0m\u001b[0;34m.\u001b[0m\u001b[0mloc\u001b[0m\u001b[0;34m[\u001b[0m\u001b[0;34m(\u001b[0m\u001b[0mfield_dfs\u001b[0m\u001b[0;34m.\u001b[0m\u001b[0mframeId\u001b[0m\u001b[0;34m==\u001b[0m\u001b[0;36m46\u001b[0m\u001b[0;34m)\u001b[0m\u001b[0;34m&\u001b[0m\u001b[0;34m(\u001b[0m\u001b[0mfield_dfs\u001b[0m\u001b[0;34m.\u001b[0m\u001b[0mball_end_x\u001b[0m\u001b[0;34m>\u001b[0m\u001b[0;36m60\u001b[0m\u001b[0;34m)\u001b[0m\u001b[0;34m&\u001b[0m\u001b[0;34m(\u001b[0m\u001b[0mfield_dfs\u001b[0m\u001b[0;34m.\u001b[0m\u001b[0mball_end_x\u001b[0m\u001b[0;34m<\u001b[0m\u001b[0;36m70\u001b[0m\u001b[0;34m)\u001b[0m\u001b[0;34m&\u001b[0m\u001b[0;34m(\u001b[0m\u001b[0mfield_dfs\u001b[0m\u001b[0;34m.\u001b[0m\u001b[0mball_end_y\u001b[0m\u001b[0;34m>\u001b[0m\u001b[0;36m10\u001b[0m\u001b[0;34m)\u001b[0m\u001b[0;34m&\u001b[0m\u001b[0;34m(\u001b[0m\u001b[0mfield_dfs\u001b[0m\u001b[0;34m.\u001b[0m\u001b[0mball_end_y\u001b[0m\u001b[0;34m<\u001b[0m\u001b[0;36m20\u001b[0m\u001b[0;34m)\u001b[0m\u001b[0;34m]\u001b[0m\u001b[0;34m.\u001b[0m\u001b[0msort_values\u001b[0m\u001b[0;34m(\u001b[0m\u001b[0;34m'p_mass_1'\u001b[0m\u001b[0;34m,\u001b[0m \u001b[0mascending\u001b[0m\u001b[0;34m=\u001b[0m\u001b[0;32mFalse\u001b[0m\u001b[0;34m)\u001b[0m\u001b[0;34m.\u001b[0m\u001b[0mhead\u001b[0m\u001b[0;34m(\u001b[0m\u001b[0;34m)\u001b[0m\u001b[0;34m\u001b[0m\u001b[0;34m\u001b[0m\u001b[0m\n\u001b[0m",
            "\u001b[0;31mNameError\u001b[0m: name 'field_dfs' is not defined"
          ]
        }
      ],
      "execution_count": 31,
      "metadata": {}
    },
    {
      "cell_type": "code",
      "source": [
        "# USELESS JUNK BELOW"
      ],
      "outputs": [],
      "execution_count": 32,
      "metadata": {
        "gather": {
          "logged": 1608270729117
        }
      }
    },
    {
      "cell_type": "code",
      "source": [
        "    # # field_df = pd.DataFrame({'ball_start_x': ball_start[0], 'ball_start_y': ball_start[1], 'ball_end_x': ball_end[0], 'ball_end_y': ball_end[1]})\n",
        "    # field_df['ball_tof'] = np.sqrt((field_df.ball_start_x-field_df.ball_end_x)**2+(field_df.ball_start_y-field_df.ball_end_y)**2)/params.avg_ball_speed\n",
        "\n",
        "    # def getPitchControl(field_row):\n",
        "    #     frame_df['int_d_x'] = field_row['ball_end_x']-frame_df.x_r\n",
        "    #     frame_df['int_d_y'] = field_row['ball_end_y']-frame_df.y_r\n",
        "    #     frame_df['int_d_mag'] = np.linalg.norm(np.array([frame_df.int_d_x, frame_df.int_d_y]), axis=0)\n",
        "    #     frame_df['int_d_theta'] = np.arctan(frame_df.int_d_y/frame_df.int_d_x).fillna(0)\n",
        "\n",
        "    #     if frame_df['int_d_mag'].min() > field_row.ball_tof*params.v_max*1.2:\n",
        "    #         field_row['cp_off'], field_row['cp_def'], field_row['cp_dead'] = 0, 0, 1\n",
        "    #         return field_row\n",
        "\n",
        "    #     frame_df['int_v0'] = (frame_df['v_x_r']*frame_df['int_d_x'] + frame_df['v_y_r']*frame_df['int_d_y'])/frame_df['int_d_mag']\n",
        "\n",
        "    #     frame_df['d_lt_vm'] = (params.v_max**2-frame_df.int_v0**2)/(2*params.a_max)\n",
        "    #     frame_df['t_lt_vm'] = (params.v_max-frame_df.int_v0)/(params.a_max)\n",
        "    #     frame_df['d_at_vm'] = frame_df.int_d_mag-frame_df.d_lt_vm\n",
        "    #     frame_df['t_at_vm'] = frame_df.d_at_vm/params.v_max\n",
        "    #     frame_df['t_tot'] = frame_df.t_lt_vm+frame_df.t_at_vm\n",
        "    #     frame_df['int_dT'] = field_row['ball_tof'] - frame_df.t_tot\n",
        "    #     frame_df['P_int_T_j'] = (1/(1. + np.exp( -np.pi/np.sqrt(3.0)/params.tti_sigma * (frame_df.int_dT) ) )).round(2)\n",
        "\n",
        "    #     # topOff = frame_df.loc[frame_df.team_pos==\"OFF\"].sort_values('P_int_T_j', ascending=False)['P_int_T_j'].iloc[0]\n",
        "    #     # topDef = frame_df.loc[frame_df.team_pos==\"DEF\"].sort_values('P_int_T_j', ascending=False)['P_int_T_j'].iloc[0]\n",
        "    #     # total_p_int = \n",
        "    #     frame_df['norm_factor'] = np.minimum(1.0, 1.0/frame_df['P_int_T_j'].sum())\n",
        "    #     frame_df['P_int_T_j_norm'] = frame_df.P_int_T_j*frame_df.norm_factor.round(2)\n",
        "    #     field_row['cp_dead'] = 1.0-frame_df['P_int_T_j_norm'].sum()\n",
        "    #     field_row['cp_off'] = frame_df.loc[frame_df.team_pos=='OFF']['P_int_T_j_norm'].sum()\n",
        "    #     field_row['cp_def'] = frame_df.loc[frame_df.team_pos=='DEF']['P_int_T_j_norm'].sum()\n",
        "\n",
        "    #     return field_row\n",
        "\n",
        "    # # field_df.iloc[2278:2281].apply(getPitchControl, axis=1)\n",
        "    # field_df = field_df.apply(getPitchControl, axis=1)\n",
        "    # # frame_df[['displayName', 'teamAbbr', 't_tot', 'int_dT', 'P_int_T_j', 'norm_factor', 'P_int_T_j_norm', 'dead_ball', 'cp']].sort_values('P_int_T_j', ascending=False)\n",
        "    # print(f'{frame_df.iloc[0].frameId}', end=' ')\n",
        "    # return field_df"
      ],
      "outputs": [],
      "execution_count": 33,
      "metadata": {
        "gather": {
          "logged": 1608270729843
        }
      }
    },
    {
      "cell_type": "code",
      "source": [
        "# Select the game and play that you wish to see in week 1\n",
        "import random\n",
        "\n",
        "plays = list(track_df.groupby(['gameId', 'playId'], as_index=False).first()[['gameId', 'playId']].to_records(index=False))\n",
        "\n",
        "game_id = 2018122314\n",
        "play_id = 4239\n",
        "\n",
        "# game_id, play_id = random.choice(plays)\n",
        "\n",
        "play_df = track_df[(track_df.playId == play_id) & (track_df.gameId == game_id)].sort_values(by = 'time')\n",
        "play_df.head()"
      ],
      "outputs": [
        {
          "output_type": "execute_result",
          "execution_count": 34,
          "data": {
            "text/plain": "Empty DataFrame\nColumns: [gameId, playId, frameId, event, nflId, displayName, jerseyNumber, position, position_general, team, team_pos, teamAbbr, route, time, los, x, y, dis, o, s, s_dir, s_dir_rad, v_x, v_y, v_theta, v_mag, a_old, a_x, a_y, a_theta, a_mag]\nIndex: []",
            "text/html": "<div>\n<style scoped>\n    .dataframe tbody tr th:only-of-type {\n        vertical-align: middle;\n    }\n\n    .dataframe tbody tr th {\n        vertical-align: top;\n    }\n\n    .dataframe thead th {\n        text-align: right;\n    }\n</style>\n<table border=\"1\" class=\"dataframe\">\n  <thead>\n    <tr style=\"text-align: right;\">\n      <th></th>\n      <th>gameId</th>\n      <th>playId</th>\n      <th>frameId</th>\n      <th>event</th>\n      <th>nflId</th>\n      <th>displayName</th>\n      <th>jerseyNumber</th>\n      <th>position</th>\n      <th>position_general</th>\n      <th>team</th>\n      <th>team_pos</th>\n      <th>teamAbbr</th>\n      <th>route</th>\n      <th>time</th>\n      <th>los</th>\n      <th>x</th>\n      <th>y</th>\n      <th>dis</th>\n      <th>o</th>\n      <th>s</th>\n      <th>s_dir</th>\n      <th>s_dir_rad</th>\n      <th>v_x</th>\n      <th>v_y</th>\n      <th>v_theta</th>\n      <th>v_mag</th>\n      <th>a_old</th>\n      <th>a_x</th>\n      <th>a_y</th>\n      <th>a_theta</th>\n      <th>a_mag</th>\n    </tr>\n  </thead>\n  <tbody>\n  </tbody>\n</table>\n</div>"
          },
          "metadata": {}
        }
      ],
      "execution_count": 34,
      "metadata": {
        "gather": {
          "logged": 1608270732054
        }
      }
    },
    {
      "cell_type": "code",
      "source": [
        "frame = 40\n",
        "frame_df = play_df[(play_df.nflId!=0)&(play_df.frameId == 40)][['nflId', 'displayName', 'position', 'team_pos', 'x', 'y', 'v_x', 'v_y', 'v_mag', 'v_theta', 'a_x', 'a_y', 'a_mag', 'a_theta']]"
      ],
      "outputs": [],
      "execution_count": 35,
      "metadata": {
        "gather": {
          "logged": 1608270735827
        }
      }
    },
    {
      "cell_type": "code",
      "source": [
        "frame_df.head()"
      ],
      "outputs": [
        {
          "output_type": "execute_result",
          "execution_count": 36,
          "data": {
            "text/plain": "Empty DataFrame\nColumns: [nflId, displayName, position, team_pos, x, y, v_x, v_y, v_mag, v_theta, a_x, a_y, a_mag, a_theta]\nIndex: []",
            "text/html": "<div>\n<style scoped>\n    .dataframe tbody tr th:only-of-type {\n        vertical-align: middle;\n    }\n\n    .dataframe tbody tr th {\n        vertical-align: top;\n    }\n\n    .dataframe thead th {\n        text-align: right;\n    }\n</style>\n<table border=\"1\" class=\"dataframe\">\n  <thead>\n    <tr style=\"text-align: right;\">\n      <th></th>\n      <th>nflId</th>\n      <th>displayName</th>\n      <th>position</th>\n      <th>team_pos</th>\n      <th>x</th>\n      <th>y</th>\n      <th>v_x</th>\n      <th>v_y</th>\n      <th>v_mag</th>\n      <th>v_theta</th>\n      <th>a_x</th>\n      <th>a_y</th>\n      <th>a_mag</th>\n      <th>a_theta</th>\n    </tr>\n  </thead>\n  <tbody>\n  </tbody>\n</table>\n</div>"
          },
          "metadata": {}
        }
      ],
      "execution_count": 36,
      "metadata": {
        "gather": {
          "logged": 1608270737004
        }
      }
    },
    {
      "cell_type": "code",
      "source": [
        "a_max = 8\n",
        "v_max = 9\n",
        "reax_t = v_max/a_max\n",
        "\n",
        "frame_df['v_x_r'] = frame_df.a_x*reax_t+frame_df.v_x\n",
        "frame_df['v_y_r'] = frame_df.a_y*reax_t+frame_df.v_y\n",
        "frame_df['v_r_mag'] = np.linalg.norm(np.array([frame_df.v_x_r, frame_df.v_y_r]), axis=0)\n",
        "frame_df['v_r_theta'] = np.arctan(frame_df.v_y_r/frame_df.v_x_r).fillna(0)\n",
        "\n",
        "frame_df['x_r'] = frame_df.x + frame_df.v_x*reax_t - 0.5*frame_df.a_x*reax_t**2\n",
        "frame_df['y_r'] = frame_df.y + frame_df.v_y*reax_t - 0.5*frame_df.a_y*reax_t**2\n",
        "frame_df"
      ],
      "outputs": [
        {
          "output_type": "execute_result",
          "execution_count": 37,
          "data": {
            "text/plain": "Empty DataFrame\nColumns: [nflId, displayName, position, team_pos, x, y, v_x, v_y, v_mag, v_theta, a_x, a_y, a_mag, a_theta, v_x_r, v_y_r, v_r_mag, v_r_theta, x_r, y_r]\nIndex: []",
            "text/html": "<div>\n<style scoped>\n    .dataframe tbody tr th:only-of-type {\n        vertical-align: middle;\n    }\n\n    .dataframe tbody tr th {\n        vertical-align: top;\n    }\n\n    .dataframe thead th {\n        text-align: right;\n    }\n</style>\n<table border=\"1\" class=\"dataframe\">\n  <thead>\n    <tr style=\"text-align: right;\">\n      <th></th>\n      <th>nflId</th>\n      <th>displayName</th>\n      <th>position</th>\n      <th>team_pos</th>\n      <th>x</th>\n      <th>y</th>\n      <th>v_x</th>\n      <th>v_y</th>\n      <th>v_mag</th>\n      <th>v_theta</th>\n      <th>a_x</th>\n      <th>a_y</th>\n      <th>a_mag</th>\n      <th>a_theta</th>\n      <th>v_x_r</th>\n      <th>v_y_r</th>\n      <th>v_r_mag</th>\n      <th>v_r_theta</th>\n      <th>x_r</th>\n      <th>y_r</th>\n    </tr>\n  </thead>\n  <tbody>\n  </tbody>\n</table>\n</div>"
          },
          "metadata": {}
        }
      ],
      "execution_count": 37,
      "metadata": {
        "gather": {
          "logged": 1608270738224
        }
      }
    },
    {
      "cell_type": "code",
      "source": [
        "frame_df['T_b'] = 2.7\n",
        "frame_df['x_b'] = 75\n",
        "frame_df['y_b'] = 20\n",
        "\n",
        "frame_df['int_d_x'] = frame_df.x_b-frame_df.x_r\n",
        "frame_df['int_d_y'] = frame_df.y_b-frame_df.y_r\n",
        "frame_df['int_d_mag'] = np.linalg.norm(np.array([frame_df.int_d_x, frame_df.int_d_y]), axis=0)\n",
        "frame_df['int_d_theta'] = np.arctan(frame_df.int_d_y/frame_df.int_d_x).fillna(0)\n",
        "\n",
        "frame_df"
      ],
      "outputs": [],
      "execution_count": null,
      "metadata": {}
    },
    {
      "cell_type": "code",
      "source": [
        "frame_df['int_v0'] = (frame_df['v_x_r']*frame_df['int_d_x'] + frame_df['v_y_r']*frame_df['int_d_y'])/frame_df['int_d_mag']\n",
        "\n",
        "frame_df['d_lt_vm'] = (v_max**2-frame_df.int_v0**2)/(2*a_max)\n",
        "frame_df['t_lt_vm'] = (v_max-frame_df.int_v0)/(a_max)\n",
        "frame_df['d_at_vm'] = frame_df.int_d_mag-frame_df.d_lt_vm\n",
        "frame_df['t_at_vm'] = frame_df.d_at_vm/v_max\n",
        "frame_df['t_tot'] = frame_df.t_lt_vm+frame_df.t_at_vm\n",
        "frame_df['int_dT'] = frame_df.T_b - frame_df.t_tot\n",
        "\n",
        "frame_df.sort_values('t_tot', ascending=True)\n"
      ],
      "outputs": [],
      "execution_count": null,
      "metadata": {}
    },
    {
      "cell_type": "code",
      "source": [
        "tti_sigma = 0.45\n",
        "frame_df['P_int_T_j'] = (1/(1. + np.exp( -np.pi/np.sqrt(3.0)/tti_sigma * (frame_df.int_dT) ) )).round(2) \n",
        "\n",
        "frame_df[['displayName', 'team_pos', 'P_int_T_j']].sort_values('P_int_T_j', ascending=False)"
      ],
      "outputs": [],
      "execution_count": null,
      "metadata": {}
    },
    {
      "cell_type": "code",
      "source": [
        "animated_play = AnimatePlay(play_df, 20)\n",
        "HTML(animated_play.ani.to_jshtml())"
      ],
      "outputs": [],
      "execution_count": null,
      "metadata": {
        "_kg_hide-input": true
      }
    },
    {
      "cell_type": "code",
      "source": [
        "\n",
        "\n",
        "frame = 40\n",
        "frame_df = play_df[(play_df.nflId!=0)&(play_df.frameId == 40)][['nflId', 'displayName', 'position', 'team_pos', 'x', 'y', 'v_x', 'v_y', 'v_mag', 'v_theta', 'a_x', 'a_y', 'a_mag', 'a_theta']]\n",
        "\n",
        "frame_df = frame_df.copy()\n",
        "frame_df = frame_df[['nflId', 'displayName', 'position', 'team_pos', 'x', 'y', 'v_x', 'v_y', 'v_mag', 'v_theta', 'a_x', 'a_y', 'a_mag', 'a_theta']]\n",
        "\n",
        "start_loc = frame_df.loc[frame_df.position=='QB'][['x', 'y']].iloc[0]\n",
        "frame_df = frame_df.loc[frame_df.position!='QB']\n",
        "\n",
        "target_locs = np.array([np.array([x, y]) for y in range(52, -1, -1) for x in range(int(start_loc[0]), 120) ])\n",
        "target_locs = target_locs + 0.5\n",
        "\n",
        "start_locs = np.full_like(target_locs, start_loc)\n",
        "tofs = np.linalg.norm(start_locs - target_locs, axis=1)/params.avg_ball_speed\n",
        "\n",
        "frame_df['v_x_r'] = frame_df.a_x*reax_t+frame_df.v_x\n",
        "frame_df['v_y_r'] = frame_df.a_y*reax_t+frame_df.v_y\n",
        "frame_df['v_r_mag'] = np.linalg.norm(np.array([frame_df.v_x_r, frame_df.v_y_r]), axis=0)\n",
        "frame_df['v_r_theta'] = np.arctan(frame_df.v_y_r/frame_df.v_x_r).fillna(0)\n",
        "\n",
        "frame_df['x_r'] = frame_df.x + frame_df.v_x*reax_t - 0.5*frame_df.a_x*reax_t**2\n",
        "frame_df['y_r'] = frame_df.y + frame_df.v_y*reax_t - 0.5*frame_df.a_y*reax_t**2\n",
        "\n",
        "frame_df"
      ],
      "outputs": [],
      "execution_count": null,
      "metadata": {}
    },
    {
      "cell_type": "code",
      "source": [
        "PCS = dict()\n",
        "\n",
        "for i, (ball_x, ball_y) in enumerate(target_locs):\n",
        "    # i, (ball_x, ball_y) = random.choice(list(enumerate(target_locs)))\n",
        "    # print(i, ball_x, ball_y, tofs[i])\n",
        "\n",
        "    df = frame_df.copy()\n",
        "    df['int_d_x'] = ball_x-df.x_r\n",
        "    df['int_d_y'] = ball_y-df.y_r\n",
        "    df['int_d_mag'] = np.linalg.norm(np.array([df.int_d_x, df.int_d_y]), axis=0)\n",
        "    df['int_d_theta'] = np.arctan(df.int_d_y/df.int_d_x).fillna(0)\n",
        "\n",
        "    df['int_v0'] = (df['v_x_r']*df['int_d_x'] + df['v_y_r']*df['int_d_y'])/df['int_d_mag']\n",
        "\n",
        "    df['d_lt_vm'] = (params.v_max**2-df.int_v0**2)/(2*params.a_max)\n",
        "    df['t_lt_vm'] = (params.v_max-df.int_v0)/(params.a_max)\n",
        "    df['d_at_vm'] = df.int_d_mag-df.d_lt_vm\n",
        "    df['t_at_vm'] = df.d_at_vm/v_max\n",
        "    df['t_tot'] = df.t_lt_vm+df.t_at_vm\n",
        "    df['int_dT'] = tofs[i] - df.t_tot\n",
        "    df['P_int_T_j'] = (1/(1. + np.exp( -np.pi/np.sqrt(3.0)/params.tti_sigma * (df.int_dT) ) )).round(2)\n",
        "\n",
        "    topOff = df.loc[df.team_pos==\"OFF\"].sort_values('P_int_T_j', ascending=False)['P_int_T_j'].iloc[0]\n",
        "    topDef = df.loc[df.team_pos==\"DEF\"].sort_values('P_int_T_j', ascending=False)['P_int_T_j'].iloc[0]\n",
        "\n",
        "    # topOff-topDef\n",
        "    PCS[(ball_x, ball_y)] = round(topOff-topDef, 2)\n",
        "\n"
      ],
      "outputs": [],
      "execution_count": null,
      "metadata": {
        "tags": []
      }
    },
    {
      "cell_type": "code",
      "source": [],
      "outputs": [],
      "execution_count": null,
      "metadata": {}
    }
  ],
  "metadata": {
    "kernelspec": {
      "name": "python3-azureml",
      "language": "python",
      "display_name": "Python 3.6 - AzureML"
    },
    "language_info": {
      "name": "python",
      "version": "3.6.9",
      "mimetype": "text/x-python",
      "codemirror_mode": {
        "name": "ipython",
        "version": 3
      },
      "pygments_lexer": "ipython3",
      "nbconvert_exporter": "python",
      "file_extension": ".py"
    },
    "kernel_info": {
      "name": "python3-azureml"
    },
    "nteract": {
      "version": "nteract-front-end@1.0.0"
    }
  },
  "nbformat": 4,
  "nbformat_minor": 4
}