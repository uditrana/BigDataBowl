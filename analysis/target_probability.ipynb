{
 "cells": [
  {
   "cell_type": "code",
   "execution_count": null,
   "metadata": {
    "_cell_guid": "b1076dfc-b9ad-4769-8c92-a6c4dae69d19",
    "_uuid": "8f2839f25d086af736a60e9eeb907d3b93b6e0e5"
   },
   "outputs": [],
   "source": [
    "import numpy as np\n",
    "import pandas as pd\n",
    "from IPython.display import HTML\n",
    "from pandarallel import pandarallel\n",
    "pandarallel.initialize()\n",
    "\n",
    "pd.set_option('display.max_columns', 100)\n",
    "pd.set_option('display.max_rows', 100)\n"
   ]
  },
  {
   "cell_type": "code",
   "execution_count": null,
   "metadata": {
    "_cell_guid": "79c7e3d0-c299-4dcb-8224-4455121ee9b0",
    "_uuid": "d629ff2d2480ee46fbb7e2d37f6b5fab8052498a"
   },
   "outputs": [],
   "source": [
    "path_shared = '~/Downloads/nfl-big-data-bowl-2021/{}'\n",
    "\n",
    "games_df = pd.read_csv(path_shared.format('games.csv'))\n",
    "plays_df = pd.read_csv(path_shared.format('plays.csv'))\n",
    "players_df = pd.read_csv(path_shared.format('players.csv'))\n",
    "track_df = pd.read_csv(path_shared.format('week1_norm.csv'))"
   ]
  },
  {
   "cell_type": "code",
   "execution_count": null,
   "metadata": {},
   "outputs": [],
   "source": [
    "params = lambda: None # create an empty object to add params\n",
    "params.a_max = 8\n",
    "params.v_max = 9\n",
    "params.reax_t = params.v_max/params.a_max\n",
    "params.avg_ball_speed = 19.5\n",
    "params.tti_sigma = 0.45\n",
    "vars(params)"
   ]
  },
  {
   "cell_type": "code",
   "execution_count": null,
   "metadata": {},
   "outputs": [],
   "source": [
    "# game_id = 2018122314\n",
    "# play_id = 4239\n",
    "game_id = 2018090905\n",
    "play_id = 2062\n",
    "# game_id, play_id = random.choice(plays)\n",
    "\n",
    "play_df = track_df[(track_df.playId == play_id) & (track_df.gameId == game_id)].sort_values(by = 'frameId')\n",
    "play_df.head()"
   ]
  },
  {
   "cell_type": "code",
   "execution_count": null,
   "metadata": {},
   "outputs": [],
   "source": [
    "los = 10\n",
    "qb_pos = np.array([5, 25])\n",
    "x = np.linspace(0.5, 119.5, 120)\n",
    "y = np.linspace(-0.5, 53.5, 55)\n",
    "y[0] = -0.2\n",
    "field_locs = np.stack(np.meshgrid(x, y)).reshape(2, -1).T  # (F, 2)\n",
    "dists = np.linalg.norm(field_locs - qb_pos, axis=1)  # (F,)\n",
    "probs = # some ops on dists\n"
   ]
  },
  {
   "cell_type": "code",
   "execution_count": null,
   "metadata": {},
   "outputs": [],
   "source": [
    "%%time\n",
    "import time\n",
    "from scipy.spatial import distance\n",
    "\n",
    "def get_L_given_T(play_frame_group):\n",
    "    frame_df = play_frame_group.loc[(play_df.nflId!=0)]\n",
    "    ball_start = frame_df.loc[frame_df.position=='QB', ['x', 'y']].iloc[0].round(0)\n",
    "    frame_df = frame_df.loc[frame_df.position!='QB']\n",
    "    pocket_width = 10\n",
    "\n",
    "    x = np.linspace(0.5, 119.5, 120)\n",
    "    y = np.linspace(-0.5, 53.5, 55)\n",
    "    y[0] = -0.2\n",
    "    field_locs = np.stack(np.meshgrid(x, y)).reshape(2, -1).T  # (F, 2)\n",
    "    \n",
    "    t = np.linspace(0, 4, 41)\n",
    "    receivers_df = frame_df.loc[(frame_df.team_pos == 'OFF') &\n",
    "                                 ((frame_df.x > frame_df.los) |\n",
    "                                  (frame_df.y > ball_start[1] + pocket_width // 2) |\n",
    "                                  (frame_df.y < ball_start[1] - pocket_width // 2)),\n",
    "                                 ['x', 'y', 'v_x', 'v_y', 'v_theta', 'v_mag', 'los', 'a_x', 'a_y']]\n",
    "    dist_from_ball_np = np.linalg.norm((receivers_df.x - ball_start[0],\n",
    "                                                     receivers_df.y - ball_start[1]), axis=0)\n",
    "    # find the spot the qb would aim at, leading the receiver in their current dir by the ball time\n",
    "    rec_x_np = receivers_df.x.to_numpy()[:,None]\n",
    "    rec_y_np = receivers_df.y.to_numpy()[:,None]\n",
    "    rec_v_x_np = receivers_df.v_x.to_numpy()[:,None]\n",
    "    rec_v_y_np = receivers_df.v_y.to_numpy()[:,None]\n",
    "    rec_a_x_np = receivers_df.a_x.to_numpy()[:,None]\n",
    "    rec_a_y_np = receivers_df.a_y.to_numpy()[:,None]\n",
    "    rec_v_theta_np = receivers_df.v_theta.to_numpy()[:,None]\n",
    "    target_x = rec_x_np+rec_v_x_np*t+0.5*rec_a_x_np*t**2  # (R, T)\n",
    "    target_y = rec_y_np+rec_v_y_np*t+0.5*rec_a_y_np*t**2  # (R, T)\n",
    "    # receivers_df['target_x'] = receivers_df.x+receivers_df.v_x*receivers_df.dist_from_ball/params.avg_ball_speed\n",
    "    # receivers_df['target_y'] = receivers_df.y+receivers_df.v_y*receivers_df.dist_from_ball/params.avg_ball_speed\n",
    "\n",
    "    target_rec_locs = np.dstack((target_x, target_y))  # (R, T, 2)\n",
    "    dist_infl = np.minimum(10, 4+(dist_from_ball_np**2)/54)\n",
    "    speed_infl = (receivers_df.v_mag.to_numpy()/11.3)**2\n",
    "    # (F, R, T, 2) showing the vec diff btwn Fth spot on field and Rth rec target spot\n",
    "    reach_vecs = field_locs[:,None,None,:] - target_rec_locs\n",
    "    # TODO uncomment below for likely speedup\n",
    "    # reach_vecs[np.linalg.norm(reach_vecs, axis=-1) > 20] = 0\n",
    "    Sigma_no_rot = np.array([[dist_infl * (1 + speed_infl), np.zeros_like(dist_infl)],\n",
    "                             [np.zeros_like(dist_infl), dist_infl * (1 - speed_infl)]]).transpose(2, 0, 1)  # (R, 2, 2)\n",
    "    rot = np.array([[np.cos(rec_v_theta_np), -np.sin(rec_v_theta_np)],\n",
    "                    [np.sin(rec_v_theta_np), np.cos(rec_v_theta_np)]])[..., 0].transpose(2, 0, 1)  # (R, 2, 2)\n",
    "    Sigma = np.einsum('...ji,...jk,...kl', rot, Sigma_no_rot, rot)  # (R, 2, 2)\n",
    "    \n",
    "    # (F, R, T) vectorized calc of reach_vec.T @ Sigma.inv @ reach_vec\n",
    "    gauss_top = np.einsum('...i,...ij,...j', reach_vecs.transpose(0, 2, 1, 3), np.linalg.inv(Sigma), reach_vecs.transpose(0, 2, 1, 3)).transpose(0, 2, 1)\n",
    "    # assumption that cov mtx is const over time\n",
    "    gauss_bottom = np.broadcast_to(2*np.pi*np.sqrt(np.linalg.det(Sigma))[:,None], (len(rec_x_np), len(t)))  # (R, T)  bivariate Gaussian normalizer\n",
    "    # (F, R, T). (i, j, k) element is probability that spot i on field is thrown to given receiver j is targeted on a throw taking k seconds\n",
    "    gauss_pdf = np.exp(-gauss_top/2) / gauss_bottom\n",
    "    \n",
    "    # assumption: each rec has uniform prob of being targeted. can use heuristic based on separation later\n",
    "    target_prob = gauss_pdf.sum(axis=1) / gauss_pdf.sum(axis=(0, 1))  # (F, T)\n",
    "    # 90%ile is a guess at this point. can tune it or use a heuristic of each rec getting a 50 sq yd window\n",
    "    #cutoff = np.percentile(target_prob, 90)\n",
    "    #target_prob[target_prob < cutoff] = 0\n",
    "    target_prob_mesh = target_prob.reshape(len(y), len(x), len(t))\n",
    "    field_df = pd.DataFrame({\n",
    "        'ball_start_x': ball_start[0],\n",
    "        'ball_start_y': ball_start[1],\n",
    "        'ball_end_x': field_locs[:,0],\n",
    "        'ball_end_y': field_locs[:,1],\n",
    "        'cp_off': target_prob.mean(axis=1)\n",
    "    })\n",
    "    return field_df\n",
    "\n",
    "field_dfs = play_df.loc[play_df.frameId <= play_df.loc[play_df.event=='pass_forward'].frameId.iloc[0]].groupby(['gameId', 'playId', 'frameId']).parallel_apply(get_field_df)\n",
    "field_dfs = field_dfs.reset_index(3, drop=True).reset_index()\n",
    "field_dfs"
   ]
  },
  {
   "cell_type": "markdown",
   "metadata": {},
   "source": [
    "Below is kinda pseudocodey."
   ]
  },
  {
   "cell_type": "code",
   "execution_count": null,
   "metadata": {},
   "outputs": [],
   "source": [
    "# inputs\n",
    "T_given_t = ... # (T,) array giving historical distribution of T given time after snap\n",
    "T_given_Ls = np.load('time_of_flight_distributions_by_location.npy') # (100, F, T) ; Rishav's output\n",
    "\n",
    "\n",
    "def get_L_T_given_t(play_frame_group):\n",
    "    L_given_T = get_L_given_T(play_frame_group)  # (F, T)\n",
    "    L_given_t = (L_given_T * T_given_t).sum(axis=1, keepdims=True)  # (F, 1) ; P(L|t) = \\sum_x P(L|T=x)P(T=x|t)\n",
    "    T_given_L = T_given_Ls[np.round(play_frame_group.los).astype(int)]  # (F, T)\n",
    "    L_T_given_t = L_given_t * T_given_L  # (F, T)\n",
    "    return L_T_given_t"
   ]
  },
  {
   "cell_type": "code",
   "execution_count": null,
   "metadata": {
    "scrolled": true
   },
   "outputs": [],
   "source": [
    "from visualize import AnimatePlay\n",
    "animated_play = AnimatePlay(play_df, 20, field_dfs)\n",
    "HTML(animated_play.ani.to_jshtml())"
   ]
  },
  {
   "cell_type": "code",
   "execution_count": null,
   "metadata": {},
   "outputs": [],
   "source": []
  }
 ],
 "metadata": {
  "kernelspec": {
   "display_name": "Python 3",
   "language": "python",
   "name": "python3"
  },
  "language_info": {
   "codemirror_mode": {
    "name": "ipython",
    "version": 3
   },
   "file_extension": ".py",
   "mimetype": "text/x-python",
   "name": "python",
   "nbconvert_exporter": "python",
   "pygments_lexer": "ipython3",
   "version": "3.8.3"
  }
 },
 "nbformat": 4,
 "nbformat_minor": 4
}
