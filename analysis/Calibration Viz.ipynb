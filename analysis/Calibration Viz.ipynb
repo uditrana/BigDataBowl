{
 "cells": [
  {
   "cell_type": "code",
   "execution_count": 1,
   "metadata": {},
   "outputs": [],
   "source": [
    "import pandas as pd\n",
    "import matplotlib.pyplot as plt\n",
    "import numpy as np\n",
    "%matplotlib inline"
   ]
  },
  {
   "cell_type": "code",
   "execution_count": 6,
   "metadata": {},
   "outputs": [],
   "source": [
    "results = pd.read_csv('../data/calibration_results_trans.csv').drop(columns='Unnamed: 0')"
   ]
  },
  {
   "cell_type": "code",
   "execution_count": 13,
   "metadata": {},
   "outputs": [
    {
     "data": {
      "text/plain": [
       "0.00020628532703435279"
      ]
     },
     "execution_count": 13,
     "metadata": {},
     "output_type": "execute_result"
    }
   ],
   "source": [
    "results.loc[results.true_outcomes == 0].trans_prob_p_int.mean()"
   ]
  },
  {
   "cell_type": "code",
   "execution_count": 73,
   "metadata": {},
   "outputs": [
    {
     "data": {
      "text/html": [
       "<div>\n",
       "<style scoped>\n",
       "    .dataframe tbody tr th:only-of-type {\n",
       "        vertical-align: middle;\n",
       "    }\n",
       "\n",
       "    .dataframe tbody tr th {\n",
       "        vertical-align: top;\n",
       "    }\n",
       "\n",
       "    .dataframe thead th {\n",
       "        text-align: right;\n",
       "    }\n",
       "</style>\n",
       "<table border=\"1\" class=\"dataframe\">\n",
       "  <thead>\n",
       "    <tr style=\"text-align: right;\">\n",
       "      <th></th>\n",
       "      <th>gameId</th>\n",
       "      <th>playId</th>\n",
       "      <th>trans_prob_p_int</th>\n",
       "      <th>true_outcomes</th>\n",
       "    </tr>\n",
       "  </thead>\n",
       "  <tbody>\n",
       "    <tr>\n",
       "      <th>0</th>\n",
       "      <td>2018100400</td>\n",
       "      <td>51</td>\n",
       "      <td>0.000048</td>\n",
       "      <td>1</td>\n",
       "    </tr>\n",
       "    <tr>\n",
       "      <th>1</th>\n",
       "      <td>2018100400</td>\n",
       "      <td>145</td>\n",
       "      <td>0.000022</td>\n",
       "      <td>1</td>\n",
       "    </tr>\n",
       "    <tr>\n",
       "      <th>2</th>\n",
       "      <td>2018100400</td>\n",
       "      <td>169</td>\n",
       "      <td>0.000051</td>\n",
       "      <td>1</td>\n",
       "    </tr>\n",
       "    <tr>\n",
       "      <th>3</th>\n",
       "      <td>2018100400</td>\n",
       "      <td>197</td>\n",
       "      <td>0.000023</td>\n",
       "      <td>1</td>\n",
       "    </tr>\n",
       "    <tr>\n",
       "      <th>4</th>\n",
       "      <td>2018100400</td>\n",
       "      <td>244</td>\n",
       "      <td>0.000048</td>\n",
       "      <td>1</td>\n",
       "    </tr>\n",
       "    <tr>\n",
       "      <th>...</th>\n",
       "      <td>...</td>\n",
       "      <td>...</td>\n",
       "      <td>...</td>\n",
       "      <td>...</td>\n",
       "    </tr>\n",
       "    <tr>\n",
       "      <th>831</th>\n",
       "      <td>2018100800</td>\n",
       "      <td>3540</td>\n",
       "      <td>0.000081</td>\n",
       "      <td>1</td>\n",
       "    </tr>\n",
       "    <tr>\n",
       "      <th>832</th>\n",
       "      <td>2018100800</td>\n",
       "      <td>3568</td>\n",
       "      <td>0.000028</td>\n",
       "      <td>1</td>\n",
       "    </tr>\n",
       "    <tr>\n",
       "      <th>833</th>\n",
       "      <td>2018100800</td>\n",
       "      <td>3757</td>\n",
       "      <td>0.000056</td>\n",
       "      <td>1</td>\n",
       "    </tr>\n",
       "    <tr>\n",
       "      <th>834</th>\n",
       "      <td>2018100800</td>\n",
       "      <td>3806</td>\n",
       "      <td>0.000029</td>\n",
       "      <td>1</td>\n",
       "    </tr>\n",
       "    <tr>\n",
       "      <th>835</th>\n",
       "      <td>2018100800</td>\n",
       "      <td>3855</td>\n",
       "      <td>0.000054</td>\n",
       "      <td>1</td>\n",
       "    </tr>\n",
       "  </tbody>\n",
       "</table>\n",
       "<p>836 rows × 4 columns</p>\n",
       "</div>"
      ],
      "text/plain": [
       "         gameId  playId  trans_prob_p_int  true_outcomes\n",
       "0    2018100400      51          0.000048              1\n",
       "1    2018100400     145          0.000022              1\n",
       "2    2018100400     169          0.000051              1\n",
       "3    2018100400     197          0.000023              1\n",
       "4    2018100400     244          0.000048              1\n",
       "..          ...     ...               ...            ...\n",
       "831  2018100800    3540          0.000081              1\n",
       "832  2018100800    3568          0.000028              1\n",
       "833  2018100800    3757          0.000056              1\n",
       "834  2018100800    3806          0.000029              1\n",
       "835  2018100800    3855          0.000054              1\n",
       "\n",
       "[836 rows x 4 columns]"
      ]
     },
     "metadata": {},
     "output_type": "display_data"
    },
    {
     "data": {
      "text/plain": [
       "0.00025629436000000003"
      ]
     },
     "execution_count": 73,
     "metadata": {},
     "output_type": "execute_result"
    }
   ],
   "source": [
    "results['p_int_pre_lambda'] = results['trans_prob_p_int'] ** 4\n",
    "results = pd.read_csv('../data/calibration_results_trans_no_hist.csv').drop(columns='Unnamed: 0')\n",
    "#results['trans_prob_p_int'] *= 750\n",
    "display(results)\n",
    "results.trans_prob_p_int.max()"
   ]
  },
  {
   "cell_type": "code",
   "execution_count": 74,
   "metadata": {},
   "outputs": [
    {
     "data": {
      "image/png": "[encoded data removed]",
      "text/plain": [
       "<Figure size 432x288 with 1 Axes>"
      ]
     },
     "metadata": {
      "needs_background": "light"
     },
     "output_type": "display_data"
    }
   ],
   "source": [
    "#plt.figure(figsize=(25, 5))\n",
    "#plt.plot(results['p_int_pre_lambda'])\n",
    "plt.hist(results['trans_prob_p_int'])\n",
    "plt.show()"
   ]
  },
  {
   "cell_type": "code",
   "execution_count": 75,
   "metadata": {},
   "outputs": [
    {
     "name": "stdout",
     "output_type": "stream",
     "text": [
      "[0.00000000e+00 2.56294360e-05 5.12588720e-05 7.68883080e-05\n",
      " 1.02517744e-04 1.28147180e-04 1.53776616e-04 1.79406052e-04\n",
      " 2.05035488e-04 2.30664924e-04]\n"
     ]
    },
    {
     "data": {
      "text/plain": [
       "<matplotlib.collections.PathCollection at 0x7efd1f608550>"
      ]
     },
     "execution_count": 75,
     "metadata": {},
     "output_type": "execute_result"
    },
    {
     "data": {
      "image/png": "[encoded data removed]",
      "text/plain": [
       "<Figure size 432x288 with 1 Axes>"
      ]
     },
     "metadata": {
      "needs_background": "light"
     },
     "output_type": "display_data"
    }
   ],
   "source": [
    "bin_boundaries = np.histogram(results['trans_prob_p_int'])[1][:-1]\n",
    "results['p_int_bin'] = np.searchsorted(bin_boundaries, results['trans_prob_p_int'], side='right') - 1\n",
    "\n",
    "#bin_boundaries_pre_lambda = np.histogram(results['p_int_pre_lambda'])[1][:-1]\n",
    "#results['p_int_pre_lambda_bin'] = np.searchsorted(bin_boundaries_pre_lambda, results['p_int_pre_lambda'], side='right') - 1\n",
    "#display(results)\n",
    "\n",
    "results['true_comp_prob'] = results.groupby('p_int_bin').true_outcomes.transform('mean')\n",
    "#results['true_comp_prob_pre_lambda'] = results.groupby('p_int_pre_lambda_bin').true_outcomes.transform('mean')\n",
    "true_probs = results.groupby('p_int_bin').true_comp_prob.first().values\n",
    "true_probs_sizes = results.groupby('p_int_bin').size()\n",
    "#true_probs_pre_lambda = results.groupby('p_int_pre_lambda_bin').true_comp_prob_pre_lambda.unique().values\n",
    "#true_probs_pre_lambda_sizes = results.groupby('p_int_pre_lambda_bin').size()\n",
    "\n",
    "# plot\n",
    "plt.figure()\n",
    "plt.title('Number of Passes compared to Transition Probability')\n",
    "plt.xlabel('Transition Probability')\n",
    "plt.ylabel('Number of Passes')\n",
    "true_probs = np.insert(true_probs, 8, 1)\n",
    "#print(true_probs_sizes.values)\n",
    "true_probs_sizes = np.insert(true_probs_sizes.values, 8, 0)\n",
    "\n",
    "print(bin_boundaries)\n",
    "plt.scatter(bin_boundaries, true_probs_sizes, label='True', s=true_probs * 200, color='g')\n",
    "#plt.plot(np.linspace(0, 1, 10), np.linspace(0, 1, 10), label='Ideal', linestyle='--', color='gray')\n",
    "#plt.legend()\n",
    "\n",
    "# plot\n",
    "#plt.figure()\n",
    "#plt.title('True Completion Probability over bins of p_int')\n",
    "#plt.xlabel('P_int (no lambda)')\n",
    "#plt.ylabel('True Completion Probability')\n",
    "#plt.scatter(bin_boundaries_pre_lambda + 0.05, true_probs_pre_lambda, label='True', s=true_probs_pre_lambda_sizes, color='g')\n",
    "#plt.plot(np.linspace(0, 1, 10), np.linspace(0, 1, 10), label='Ideal', linestyle='--', color='gray')\n",
    "#plt.legend()"
   ]
  },
  {
   "cell_type": "code",
   "execution_count": null,
   "metadata": {},
   "outputs": [],
   "source": []
  },
  {
   "cell_type": "code",
   "execution_count": null,
   "metadata": {},
   "outputs": [],
   "source": []
  }
 ],
 "metadata": {
  "kernelspec": {
   "display_name": "Python 3",
   "language": "python",
   "name": "python3"
  },
  "language_info": {
   "codemirror_mode": {
    "name": "ipython",
    "version": 3
   },
   "file_extension": ".py",
   "mimetype": "text/x-python",
   "name": "python",
   "nbconvert_exporter": "python",
   "pygments_lexer": "ipython3",
   "version": "3.8.5"
  }
 },
 "nbformat": 4,
 "nbformat_minor": 4
}
