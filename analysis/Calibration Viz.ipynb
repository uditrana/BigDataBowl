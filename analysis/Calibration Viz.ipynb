{
 "cells": [
  {
   "cell_type": "code",
   "execution_count": 14,
   "metadata": {},
   "outputs": [],
   "source": [
    "import pandas as pd\n",
    "import matplotlib.pyplot as plt\n",
    "import numpy as np\n",
    "%matplotlib inline"
   ]
  },
  {
   "cell_type": "code",
   "execution_count": 2,
   "metadata": {},
   "outputs": [],
   "source": [
    "results = pd.read_csv('calibration_results.csv').drop(columns='Unnamed: 0')"
   ]
  },
  {
   "cell_type": "code",
   "execution_count": 3,
   "metadata": {},
   "outputs": [
    {
     "data": {
      "text/plain": [
       "0.6297868964663678"
      ]
     },
     "execution_count": 3,
     "metadata": {},
     "output_type": "execute_result"
    }
   ],
   "source": [
    "results.loc[results.true_outcomes == 0].trans_prob_p_int.mean()"
   ]
  },
  {
   "cell_type": "code",
   "execution_count": 5,
   "metadata": {},
   "outputs": [
    {
     "data": {
      "text/html": [
       "<div>\n",
       "<style scoped>\n",
       "    .dataframe tbody tr th:only-of-type {\n",
       "        vertical-align: middle;\n",
       "    }\n",
       "\n",
       "    .dataframe tbody tr th {\n",
       "        vertical-align: top;\n",
       "    }\n",
       "\n",
       "    .dataframe thead th {\n",
       "        text-align: right;\n",
       "    }\n",
       "</style>\n",
       "<table border=\"1\" class=\"dataframe\">\n",
       "  <thead>\n",
       "    <tr style=\"text-align: right;\">\n",
       "      <th></th>\n",
       "      <th>gameId</th>\n",
       "      <th>playId</th>\n",
       "      <th>trans_prob_p_int</th>\n",
       "      <th>true_outcomes</th>\n",
       "      <th>p_int_pre_lambda</th>\n",
       "    </tr>\n",
       "  </thead>\n",
       "  <tbody>\n",
       "    <tr>\n",
       "      <th>0</th>\n",
       "      <td>2018100400</td>\n",
       "      <td>51</td>\n",
       "      <td>0.575605</td>\n",
       "      <td>1</td>\n",
       "      <td>0.109773</td>\n",
       "    </tr>\n",
       "    <tr>\n",
       "      <th>1</th>\n",
       "      <td>2018100400</td>\n",
       "      <td>117</td>\n",
       "      <td>0.777094</td>\n",
       "      <td>1</td>\n",
       "      <td>0.364665</td>\n",
       "    </tr>\n",
       "    <tr>\n",
       "      <th>2</th>\n",
       "      <td>2018100400</td>\n",
       "      <td>145</td>\n",
       "      <td>0.770925</td>\n",
       "      <td>1</td>\n",
       "      <td>0.353223</td>\n",
       "    </tr>\n",
       "    <tr>\n",
       "      <th>3</th>\n",
       "      <td>2018100400</td>\n",
       "      <td>169</td>\n",
       "      <td>0.901023</td>\n",
       "      <td>1</td>\n",
       "      <td>0.659088</td>\n",
       "    </tr>\n",
       "    <tr>\n",
       "      <th>4</th>\n",
       "      <td>2018100400</td>\n",
       "      <td>197</td>\n",
       "      <td>0.874968</td>\n",
       "      <td>1</td>\n",
       "      <td>0.586097</td>\n",
       "    </tr>\n",
       "    <tr>\n",
       "      <th>...</th>\n",
       "      <td>...</td>\n",
       "      <td>...</td>\n",
       "      <td>...</td>\n",
       "      <td>...</td>\n",
       "      <td>...</td>\n",
       "    </tr>\n",
       "    <tr>\n",
       "      <th>916</th>\n",
       "      <td>2018100800</td>\n",
       "      <td>3540</td>\n",
       "      <td>0.775963</td>\n",
       "      <td>1</td>\n",
       "      <td>0.362547</td>\n",
       "    </tr>\n",
       "    <tr>\n",
       "      <th>917</th>\n",
       "      <td>2018100800</td>\n",
       "      <td>3568</td>\n",
       "      <td>0.732154</td>\n",
       "      <td>1</td>\n",
       "      <td>0.287349</td>\n",
       "    </tr>\n",
       "    <tr>\n",
       "      <th>918</th>\n",
       "      <td>2018100800</td>\n",
       "      <td>3757</td>\n",
       "      <td>0.803803</td>\n",
       "      <td>1</td>\n",
       "      <td>0.417445</td>\n",
       "    </tr>\n",
       "    <tr>\n",
       "      <th>919</th>\n",
       "      <td>2018100800</td>\n",
       "      <td>3806</td>\n",
       "      <td>0.694690</td>\n",
       "      <td>1</td>\n",
       "      <td>0.232897</td>\n",
       "    </tr>\n",
       "    <tr>\n",
       "      <th>920</th>\n",
       "      <td>2018100800</td>\n",
       "      <td>3855</td>\n",
       "      <td>0.930533</td>\n",
       "      <td>1</td>\n",
       "      <td>0.749768</td>\n",
       "    </tr>\n",
       "  </tbody>\n",
       "</table>\n",
       "<p>921 rows × 5 columns</p>\n",
       "</div>"
      ],
      "text/plain": [
       "         gameId  playId  trans_prob_p_int  true_outcomes  p_int_pre_lambda\n",
       "0    2018100400      51          0.575605              1          0.109773\n",
       "1    2018100400     117          0.777094              1          0.364665\n",
       "2    2018100400     145          0.770925              1          0.353223\n",
       "3    2018100400     169          0.901023              1          0.659088\n",
       "4    2018100400     197          0.874968              1          0.586097\n",
       "..          ...     ...               ...            ...               ...\n",
       "916  2018100800    3540          0.775963              1          0.362547\n",
       "917  2018100800    3568          0.732154              1          0.287349\n",
       "918  2018100800    3757          0.803803              1          0.417445\n",
       "919  2018100800    3806          0.694690              1          0.232897\n",
       "920  2018100800    3855          0.930533              1          0.749768\n",
       "\n",
       "[921 rows x 5 columns]"
      ]
     },
     "metadata": {},
     "output_type": "display_data"
    },
    {
     "data": {
      "text/plain": [
       "0.46808288689442756"
      ]
     },
     "execution_count": 5,
     "metadata": {},
     "output_type": "execute_result"
    }
   ],
   "source": [
    "results['p_int_pre_lambda'] = results['trans_prob_p_int'] ** 4\n",
    "display(results)\n",
    "results.loc[results.true_outcomes == 1].p_int_pre_lambda.mean()"
   ]
  },
  {
   "cell_type": "code",
   "execution_count": 59,
   "metadata": {},
   "outputs": [
    {
     "data": {
      "image/png": "[encoded data removed]",
      "text/plain": [
       "<Figure size 432x288 with 1 Axes>"
      ]
     },
     "metadata": {
      "needs_background": "light"
     },
     "output_type": "display_data"
    }
   ],
   "source": [
    "#plt.figure(figsize=(25, 5))\n",
    "#plt.plot(results['p_int_pre_lambda'])\n",
    "plt.hist(results['p_int_pre_lambda'])\n",
    "plt.show()"
   ]
  },
  {
   "cell_type": "code",
   "execution_count": 89,
   "metadata": {},
   "outputs": [
    {
     "name": "stdout",
     "output_type": "stream",
     "text": [
      "[0.         0.09830421 0.19660842 0.29491264 0.39321685 0.49152106\n",
      " 0.58982527 0.68812948 0.78643369 0.88473791]\n"
     ]
    },
    {
     "data": {
      "text/plain": [
       "<matplotlib.legend.Legend at 0x7ff1acc8c5b0>"
      ]
     },
     "execution_count": 89,
     "metadata": {},
     "output_type": "execute_result"
    },
    {
     "data": {
      "image/png": "[encoded data removed]",
      "text/plain": [
       "<Figure size 432x288 with 1 Axes>"
      ]
     },
     "metadata": {
      "needs_background": "light"
     },
     "output_type": "display_data"
    },
    {
     "data": {
      "image/png": "[encoded data removed]",
      "text/plain": [
       "<Figure size 432x288 with 1 Axes>"
      ]
     },
     "metadata": {
      "needs_background": "light"
     },
     "output_type": "display_data"
    }
   ],
   "source": [
    "bin_boundaries = np.histogram(results['trans_prob_p_int'])[1][:-1]\n",
    "results['p_int_bin'] = np.searchsorted(bin_boundaries, results['trans_prob_p_int'], side='right') - 1\n",
    "\n",
    "bin_boundaries_pre_lambda = np.histogram(results['p_int_pre_lambda'])[1][:-1]\n",
    "results['p_int_pre_lambda_bin'] = np.searchsorted(bin_boundaries_pre_lambda, results['p_int_pre_lambda'], side='right') - 1\n",
    "#display(results)\n",
    "\n",
    "results['true_comp_prob'] = results.groupby('p_int_bin').true_outcomes.transform('mean')\n",
    "results['true_comp_prob_pre_lambda'] = results.groupby('p_int_pre_lambda_bin').true_outcomes.transform('mean')\n",
    "\n",
    "true_probs = results.groupby('p_int_bin').true_comp_prob.unique().values\n",
    "true_probs_sizes = results.groupby('p_int_bin').size()\n",
    "true_probs_pre_lambda = results.groupby('p_int_pre_lambda_bin').true_comp_prob_pre_lambda.unique().values\n",
    "true_probs_pre_lambda_sizes = results.groupby('p_int_pre_lambda_bin').size()\n",
    "\n",
    "# plot\n",
    "plt.figure()\n",
    "plt.title('True Completion Probability over bins of p_int')\n",
    "plt.xlabel('P_int (with lambda)')\n",
    "plt.ylabel('True Completion Probability')\n",
    "plt.scatter(bin_boundaries + 0.05, true_probs, label='True', s=true_probs_sizes, color='g')\n",
    "plt.plot(np.linspace(0, 1, 10), np.linspace(0, 1, 10), label='Ideal', linestyle='--', color='gray')\n",
    "plt.legend()\n",
    "\n",
    "# plot\n",
    "plt.figure()\n",
    "plt.title('True Completion Probability over bins of p_int')\n",
    "plt.xlabel('P_int (no lambda)')\n",
    "plt.ylabel('True Completion Probability')\n",
    "plt.scatter(bin_boundaries_pre_lambda + 0.05, true_probs_pre_lambda, label='True', s=true_probs_pre_lambda_sizes, color='g')\n",
    "plt.plot(np.linspace(0, 1, 10), np.linspace(0, 1, 10), label='Ideal', linestyle='--', color='gray')\n",
    "plt.legend()"
   ]
  },
  {
   "cell_type": "code",
   "execution_count": 24,
   "metadata": {},
   "outputs": [
    {
     "data": {
      "text/plain": [
       "(array([ 7.,  6.,  8., 13., 14., 25., 35., 61., 39., 15.]),\n",
       " array([0.        , 0.0979227 , 0.19584539, 0.29376809, 0.39169078,\n",
       "        0.48961348, 0.58753617, 0.68545886, 0.78338156, 0.88130426,\n",
       "        0.97922695]),\n",
       " <BarContainer object of 10 artists>)"
      ]
     },
     "execution_count": 24,
     "metadata": {},
     "output_type": "execute_result"
    },
    {
     "data": {
      "image/png": "[encoded data removed]",
      "text/plain": [
       "<Figure size 432x288 with 1 Axes>"
      ]
     },
     "metadata": {
      "needs_background": "light"
     },
     "output_type": "display_data"
    }
   ],
   "source": [
    "plt.hist(results.loc[results.true_outcomes == 0, 'trans_prob_p_int'])"
   ]
  },
  {
   "cell_type": "code",
   "execution_count": null,
   "metadata": {},
   "outputs": [],
   "source": []
  }
 ],
 "metadata": {
  "kernelspec": {
   "display_name": "Python 3",
   "language": "python",
   "name": "python3"
  },
  "language_info": {
   "codemirror_mode": {
    "name": "ipython",
    "version": 3
   },
   "file_extension": ".py",
   "mimetype": "text/x-python",
   "name": "python",
   "nbconvert_exporter": "python",
   "pygments_lexer": "ipython3",
   "version": "3.8.5"
  }
 },
 "nbformat": 4,
 "nbformat_minor": 4
}
