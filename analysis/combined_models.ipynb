{
 "cells": [
  {
   "cell_type": "code",
   "execution_count": null,
   "metadata": {
    "_cell_guid": "b1076dfc-b9ad-4769-8c92-a6c4dae69d19",
    "_uuid": "8f2839f25d086af736a60e9eeb907d3b93b6e0e5",
    "gather": {
     "logged": 1608715729701
    }
   },
   "outputs": [],
   "source": [
    "import pandas as pd\n",
    "from IPython.display import HTML\n",
    "from tqdm import tqdm\n",
    "from visualize import *\n",
    "\n",
    "pd.set_option('display.max_columns', 200)\n",
    "pd.set_option('display.max_rows', 100)"
   ]
  },
  {
   "cell_type": "code",
   "execution_count": null,
   "metadata": {},
   "outputs": [],
   "source": [
    "from models.play_eppa_cpu import *"
   ]
  },
  {
   "cell_type": "code",
   "execution_count": null,
   "metadata": {},
   "outputs": [],
   "source": [
    "path_shared = '../data/{}'\n",
    "games_df = pd.read_csv(path_shared.format('games.csv'))\n",
    "plays_df = pd.read_csv(path_shared.format('plays.csv'))\n",
    "players_df = pd.read_csv(path_shared.format('players.csv'))\n",
    "track_df1 = pd.read_csv(path_shared.format('week1_norm.csv'))\n",
    "track_df2 = pd.read_csv(path_shared.format('week2_norm.csv'))\n",
    "track_df4 = pd.read_csv(path_shared.format('week4_norm.csv'))\n",
    "track_df7 = pd.read_csv(path_shared.format('week7_norm.csv'))\n",
    "track_df6 = pd.read_csv(path_shared.format('week6_norm.csv'))\n",
    "track_df10 = pd.read_csv(path_shared.format('week10_norm.csv'))\n",
    "track_df16 = pd.read_csv(path_shared.format('week16_norm.csv'))\n",
    "track_df15 = pd.read_csv(path_shared.format('week15_norm.csv'))\n",
    "track_df14 = pd.read_csv(path_shared.format('week14_norm.csv'))"
   ]
  },
  {
   "cell_type": "code",
   "execution_count": null,
   "metadata": {},
   "outputs": [],
   "source": [
    "track_df5 = pd.read_csv(path_shared.format('week5_norm.csv'))\n",
    "track_df6 = pd.read_csv(path_shared.format('week6_norm.csv'))"
   ]
  },
  {
   "cell_type": "code",
   "execution_count": null,
   "metadata": {},
   "outputs": [],
   "source": [
    "track_df13 = pd.read_csv(path_shared.format('week13_norm.csv'))"
   ]
  },
  {
   "cell_type": "code",
   "execution_count": null,
   "metadata": {
    "gather": {
     "logged": 1608713762912
    }
   },
   "outputs": [],
   "source": [
    "plays = list(set(map(lambda x: (x[0].item(), x[1].item()), track_df.groupby(['gameId', 'playId'], as_index=False).first()[['gameId', 'playId']].to_numpy())))\n",
    "len(plays)"
   ]
  },
  {
   "cell_type": "code",
   "execution_count": null,
   "metadata": {
    "gather": {
     "logged": 1608797695912
    }
   },
   "outputs": [],
   "source": [
    "# deep lockett vs chiefs (16)\n",
    "# game_id = 2018122314\n",
    "# play_id = 4239\n",
    "\n",
    "# deep dissly vs bears (2)\n",
    "# game_id = 2018091700\n",
    "# play_id = 3936\n",
    "\n",
    "# deep middle gronk 2 v 1 (1) \n",
    "# game_id = 2018090905\n",
    "# play_id = 2062\n",
    "\n",
    "# TRUEVIEW\n",
    "# gronk td (1)\n",
    "# game_id = 2018090905\n",
    "# play_id = 228\n",
    "\n",
    "# olsen over underneath cov (1)\n",
    "# game_id = 2018090910\n",
    "# play_id = 806\n",
    "\n",
    "# kirk sack (13)\n",
    "# game_id = 2018120212\n",
    "# play_id = 3103\n",
    "\n",
    "# kirk to thielen cool route (13)\n",
    "# game_id = 2018120212\n",
    "# play_id = 1834\n",
    "\n",
    "# brady to flash seam in zone (13)\n",
    "game_id = 2018120212\n",
    "play_id = 2971\n",
    "\n",
    "## END TRUEVIEW ###\n",
    "\n",
    "### ROUTE COMBOS ####\n",
    "game_id = 2018091604\n",
    "play_id = 2613\n",
    "\n",
    "# game_id = 2018091700\n",
    "# play_id = 1959\n",
    "\n",
    "# detroit red zone vs jets (1)\n",
    "# game_id = 2018091000\n",
    "# play_id = 3016\n",
    "\n",
    "# ten adoree jackson high eppa (1)\n",
    "# game_id = 2018090903\n",
    "# play_id = 1515\t\t\t\t\t\t\t\t\t\t\t\t\t\t\t\t\t\t\t\t\t\t\t\t\t\t\t\t\t\n",
    "\n",
    "# mullens to kittle, def by wagner (13)\n",
    "# game_id = 2018120213\n",
    "# play_id = 398\n",
    "\n",
    "# mullens to bobby, 98yd pick6 (13)\n",
    "# game_id = 2018120213\n",
    "# play_id = 3952\n",
    "\n",
    "# mahomes to tyreek, KJ defense (16)\n",
    "# game_id = 2018122314\n",
    "# play_id = 73\n",
    "\n",
    "#random debug play\n",
    "# game_id = 2018090912\n",
    "# play_id = 3564\n",
    "\n",
    "# game_id, play_id = random.choice(plays)\n",
    "\n",
    "play_df = track_df[(track_df.playId == play_id) & (track_df.gameId == game_id)].sort_values(by = 'frameId')\n",
    "\n",
    "ball_snap_frame = play_df.loc[(play_df.nflId == 0) & (play_df.event == 'ball_snap')].frameId.iloc[0]\n",
    "# pass_forward_frame = play_df.loc[(play_df.nflId == 0) & (play_df.event == 'pass_forward')].frameId.iloc[0]\n",
    "\n",
    "# play_df['frames_since_snap'] = play_df.frameId - ball_snap_frame\n",
    "# play_df = play_df.join(los, on=['gameId', 'playId'])\n",
    "play_df.reset_index(drop=True, inplace=True)\n",
    "\n",
    "play_df.head()"
   ]
  },
  {
   "cell_type": "code",
   "execution_count": null,
   "metadata": {},
   "outputs": [],
   "source": [
    "game_id = 2018101404\n",
    "play_id = 977\n",
    "play_df, field_dfs, passes_df, player_stats_df = play_eppa_cpu(track_df6, game_id, play_id, viz_df=True, save_np=False, stats_df=True, viz_true_proj=True, save_all_dfs= False)"
   ]
  },
  {
   "cell_type": "code",
   "execution_count": null,
   "metadata": {},
   "outputs": [],
   "source": [
    "out_dir_path = '../output/{}'\n",
    "opt_play_df = pd.read_csv(out_dir_path.format(f'def_opt_output/horizon_1_5/def_opt_{game_id}_{play_id}/opt_play_df.csv'), index_col=0)\n",
    "opt_play_df.loc[opt_play_df.team_pos=='DEF', ['x', 'y', 'v_x', 'v_y', 'a_x', 'a_y']] = \\\n",
    "    opt_play_df.loc[opt_play_df.team_pos=='DEF', ['x_opt', 'y_opt', 'v_x_opt', 'v_y_opt', 'a_x_opt', 'a_y_opt']].rename(columns=(lambda x: x.replace('_opt', '')))\n",
    "opt_play_df.loc[(opt_play_df.team_pos=='DEF')].tail()"
   ]
  },
  {
   "cell_type": "code",
   "execution_count": null,
   "metadata": {},
   "outputs": [],
   "source": [
    "play_df2, field_dfs2, passes_df2, player_stats_df2 = play_eppa_cpu(opt_play_df, game_id, play_id, viz_df=True, save_np=False, stats_df=True, viz_true_proj=False, save_all_dfs= False)"
   ]
  },
  {
   "cell_type": "code",
   "execution_count": null,
   "metadata": {},
   "outputs": [],
   "source": [
    "maxFid = opt_play_df.frameId.max()\n",
    "opt_play_df.loc[(opt_play_df.team_pos=='OFF')&(opt_play_df.frameId>=14)&(opt_play_df.frameId<=maxFid-8), ['proj_x', 'proj_y', 'proj_v_x', 'proj_v_y', 'proj_a_x', 'proj_a_y']] = \\\n",
    "    opt_play_df.loc[(opt_play_df.team_pos=='OFF')&(opt_play_df.frameId>=22), ['x_opt', 'y_opt', 'v_x_opt', 'v_y_opt', 'a_x_opt', 'a_y_opt']].to_numpy()\n",
    "opt_play_df.loc[(opt_play_df.team_pos=='DEF')&(opt_play_df.frameId>=14)&(opt_play_df.frameId<=maxFid-8), ['proj_x', 'proj_y', 'proj_v_x', 'proj_v_y', 'proj_a_x', 'proj_a_y']] = \\\n",
    "    opt_play_df.loc[(opt_play_df.team_pos=='DEF')&(opt_play_df.frameId>=14)&(opt_play_df.frameId<=maxFid-8), ['x_opt', 'y_opt', 'v_x_opt', 'v_y_opt', 'a_x_opt', 'a_y_opt']].to_numpy()"
   ]
  },
  {
   "cell_type": "code",
   "execution_count": null,
   "metadata": {},
   "outputs": [],
   "source": [
    "animated_play = AnimatePlay(play_df, 20, field_dfs.rename(columns={'eppa1s': 'v_mass'}))\n",
    "HTML(animated_play.ani.to_jshtml())"
   ]
  },
  {
   "cell_type": "code",
   "execution_count": null,
   "metadata": {},
   "outputs": [],
   "source": [
    "animated_play = AnimatePlay(opt_play_df, 20, field_dfs2.rename(columns={'eppa1s': 'v_mass'}), viz_proj=True)\n",
    "HTML(animated_play.ani.to_jshtml())"
   ]
  },
  {
   "cell_type": "code",
   "execution_count": null,
   "metadata": {},
   "outputs": [],
   "source": [
    "with open('test.html', 'w+') as out:\n",
    "    out.write(animated_play.ani.to_jshtml())"
   ]
  },
  {
   "cell_type": "code",
   "execution_count": null,
   "metadata": {},
   "outputs": [],
   "source": [
    "animated_play.ani.save('test.gif', writer='imagemagick')"
   ]
  },
  {
   "cell_type": "code",
   "execution_count": null,
   "metadata": {},
   "outputs": [],
   "source": [
    "animated_play = AnimatePlay(play_df, 20, field_dfs.rename(columns={'ppc_off': 'p_mass'}))\n",
    "animated_play.ani.save()"
   ]
  },
  {
   "cell_type": "code",
   "execution_count": null,
   "metadata": {},
   "outputs": [],
   "source": [
    "animated_play = AnimatePlay(play_df, 20, field_dfs.rename(columns={'trans': 'p_mass'}))\n",
    "HTML(animated_play.ani.to_jshtml())"
   ]
  },
  {
   "cell_type": "code",
   "execution_count": null,
   "metadata": {},
   "outputs": [],
   "source": [
    "animated_play = AnimatePlay(play_df2, 20, field_dfs2.rename(columns={'trans': 'v_mass'}))\n",
    "HTML(animated_play.ani.to_jshtml())"
   ]
  },
  {
   "cell_type": "code",
   "execution_count": null,
   "metadata": {},
   "outputs": [],
   "source": [
    "type(animated_play.ani)\n",
    "animated_play.ani.save('./results/test.gif', writer='imagemagick', fps=10)"
   ]
  },
  {
   "cell_type": "code",
   "execution_count": null,
   "metadata": {},
   "outputs": [],
   "source": [
    "pd.merge(passes_df[['gameId', 'playId', 'frameId','eppa1_tot']], passes_df2[['gameId', 'playId', 'frameId','eppa1_tot']], on=['gameId', 'playId', 'frameId'])"
   ]
  },
  {
   "cell_type": "code",
   "execution_count": null,
   "metadata": {},
   "outputs": [],
   "source": []
  }
 ],
 "metadata": {
  "kernel_info": {
   "name": "python3-azureml"
  },
  "kernelspec": {
   "display_name": "Python 3",
   "language": "python",
   "name": "python3"
  },
  "language_info": {
   "codemirror_mode": {
    "name": "ipython",
    "version": 3
   },
   "file_extension": ".py",
   "mimetype": "text/x-python",
   "name": "python",
   "nbconvert_exporter": "python",
   "pygments_lexer": "ipython3",
   "version": "3.8.2"
  },
  "nteract": {
   "version": "nteract-front-end@1.0.0"
  }
 },
 "nbformat": 4,
 "nbformat_minor": 4
}