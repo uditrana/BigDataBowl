{
  "cells": [
    {
      "cell_type": "code",
      "execution_count": 2,
      "metadata": {
        "gather": {
          "logged": 1608763867685
        }
      },
      "outputs": [],
      "source": [
        "import numpy as np\n",
        "import pandas as pd\n",
        "import os\n",
        "from pathlib import Path\n",
        "\n",
        "from IPython.display import HTML\n",
        "from tqdm import tqdm\n",
        "\n",
        "pd.set_option('display.max_columns', 100)\n",
        "pd.set_option('display.max_rows', 100)"
      ]
    },
    {
      "cell_type": "code",
      "execution_count": 12,
      "metadata": {
        "gather": {
          "logged": 1608765359646
        }
      },
      "outputs": [],
      "source": [
        "out_dir_path = '../output/1/{}'"
      ]
    },
    {
      "cell_type": "code",
      "execution_count": null,
      "metadata": {
        "gather": {
          "logged": 1608767879968
        }
      },
      "outputs": [],
      "source": [
        "vals = []\n",
        "\n",
        "for game_id in tqdm(sorted(os.listdir(out_dir_path.format('')))):\n",
        "    for play_id in tqdm(sorted(os.listdir(out_dir_path.format(f'{game_id}')))):\n",
        "        for frame_id in sorted(os.listdir(out_dir_path.format(f'{game_id}/{play_id}'))):\n",
        "            print(out_dir_path.format(f'{game_id}/{play_id}/{frame_id}'))\n",
        "            with open(out_dir_path.format(f'{game_id}/{play_id}/{frame_id}'), 'rb') as f:\n",
        "                all = np.load(f, allow_pickle=True)\n",
        "                print(list(all.keys()))\n",
        "                eppa_ind = all['eppa_ind']\n",
        "                player_info = all['ind_info']\n",
        "                print(player_info)\n",
        "                print(2/)\n",
        "                eppa = np.sum(eppa_ind, axis=-1, where=player_info[:, 1]=='OFF')\n",
        "                vals.append((game_id, play_id, frame_id, eppa))\n",
        "\n",
        "len(vals)"
      ]
    },
    {
      "cell_type": "code",
      "execution_count": 17,
      "metadata": {
        "gather": {
          "logged": 1608792266682
        }
      },
      "outputs": [],
      "source": [
        "eppa_sums = list(map(lambda x: x[3].sum(), vals))"
      ]
    },
    {
      "cell_type": "code",
      "execution_count": 26,
      "metadata": {
        "collapsed": true,
        "gather": {
          "logged": 1608794059111
        },
        "jupyter": {
          "outputs_hidden": false,
          "source_hidden": false
        },
        "nteract": {
          "transient": {
            "deleting": false
          }
        }
      },
      "outputs": [
        {
          "name": "stdout",
          "output_type": "stream",
          "text": [
            "('2018090600', '1037', '11.npz', array([[0., 0., 0., ..., 0., 0., 0.],\n",
            "       [0., 0., 0., ..., 0., 0., 0.],\n",
            "       [0., 0., 0., ..., 0., 0., 0.],\n",
            "       ...,\n",
            "       [0., 0., 0., ..., 0., 0., 0.],\n",
            "       [0., 0., 0., ..., 0., 0., 0.],\n",
            "       [0., 0., 0., ..., 0., 0., 0.]]))\n",
            "(6600, 40)\n"
          ]
        }
      ],
      "source": [
        "a = vals[0]\n",
        "print(a)\n",
        "print(a[3].shape)"
      ]
    },
    {
      "cell_type": "code",
      "execution_count": 18,
      "metadata": {
        "gather": {
          "logged": 1608792272324
        }
      },
      "outputs": [
        {
          "data": {
            "text/html": "<div>\n<style scoped>\n    .dataframe tbody tr th:only-of-type {\n        vertical-align: middle;\n    }\n\n    .dataframe tbody tr th {\n        vertical-align: top;\n    }\n\n    .dataframe thead th {\n        text-align: right;\n    }\n</style>\n<table border=\"1\" class=\"dataframe\">\n  <thead>\n    <tr style=\"text-align: right;\">\n      <th></th>\n      <th>gameId</th>\n      <th>playId</th>\n      <th>frameId</th>\n      <th>eppa_sum</th>\n    </tr>\n  </thead>\n  <tbody>\n    <tr>\n      <th>0</th>\n      <td>2018090600</td>\n      <td>1037</td>\n      <td>11</td>\n      <td>-0.279331</td>\n    </tr>\n    <tr>\n      <th>1</th>\n      <td>2018090600</td>\n      <td>1037</td>\n      <td>12</td>\n      <td>-0.290279</td>\n    </tr>\n    <tr>\n      <th>2</th>\n      <td>2018090600</td>\n      <td>1037</td>\n      <td>13</td>\n      <td>-0.285995</td>\n    </tr>\n    <tr>\n      <th>3</th>\n      <td>2018090600</td>\n      <td>1037</td>\n      <td>14</td>\n      <td>-0.272747</td>\n    </tr>\n    <tr>\n      <th>4</th>\n      <td>2018090600</td>\n      <td>1037</td>\n      <td>15</td>\n      <td>-0.224963</td>\n    </tr>\n    <tr>\n      <th>5</th>\n      <td>2018090600</td>\n      <td>1037</td>\n      <td>16</td>\n      <td>-0.132762</td>\n    </tr>\n    <tr>\n      <th>6</th>\n      <td>2018090600</td>\n      <td>1037</td>\n      <td>17</td>\n      <td>-0.004429</td>\n    </tr>\n    <tr>\n      <th>7</th>\n      <td>2018090600</td>\n      <td>1037</td>\n      <td>18</td>\n      <td>0.137314</td>\n    </tr>\n    <tr>\n      <th>8</th>\n      <td>2018090600</td>\n      <td>1037</td>\n      <td>19</td>\n      <td>0.192732</td>\n    </tr>\n    <tr>\n      <th>9</th>\n      <td>2018090600</td>\n      <td>1037</td>\n      <td>20</td>\n      <td>0.292319</td>\n    </tr>\n  </tbody>\n</table>\n</div>",
            "text/plain": "       gameId playId  frameId  eppa_sum\n0  2018090600   1037       11 -0.279331\n1  2018090600   1037       12 -0.290279\n2  2018090600   1037       13 -0.285995\n3  2018090600   1037       14 -0.272747\n4  2018090600   1037       15 -0.224963\n5  2018090600   1037       16 -0.132762\n6  2018090600   1037       17 -0.004429\n7  2018090600   1037       18  0.137314\n8  2018090600   1037       19  0.192732\n9  2018090600   1037       20  0.292319"
          },
          "execution_count": 18,
          "metadata": {},
          "output_type": "execute_result"
        }
      ],
      "source": [
        "df = pd.DataFrame(list(map(lambda x: (x[0], x[1], int(x[2][:-4]),x[3].sum()), vals)), columns=['gameId', 'playId', 'frameId', 'eppa_sum'])\n",
        "df.head(10)"
      ]
    },
    {
      "cell_type": "code",
      "execution_count": 35,
      "metadata": {},
      "outputs": [
        {
          "data": {
            "text/html": "<div>\n<style scoped>\n    .dataframe tbody tr th:only-of-type {\n        vertical-align: middle;\n    }\n\n    .dataframe tbody tr th {\n        vertical-align: top;\n    }\n\n    .dataframe thead th {\n        text-align: right;\n    }\n</style>\n<table border=\"1\" class=\"dataframe\">\n  <thead>\n    <tr style=\"text-align: right;\">\n      <th></th>\n      <th>eppa_sum</th>\n    </tr>\n  </thead>\n  <tbody>\n    <tr>\n      <th>count</th>\n      <td>2714.000000</td>\n    </tr>\n    <tr>\n      <th>mean</th>\n      <td>0.630291</td>\n    </tr>\n    <tr>\n      <th>std</th>\n      <td>0.321244</td>\n    </tr>\n    <tr>\n      <th>min</th>\n      <td>0.078087</td>\n    </tr>\n    <tr>\n      <th>25%</th>\n      <td>0.391682</td>\n    </tr>\n    <tr>\n      <th>50%</th>\n      <td>0.589892</td>\n    </tr>\n    <tr>\n      <th>75%</th>\n      <td>0.844659</td>\n    </tr>\n    <tr>\n      <th>max</th>\n      <td>1.669557</td>\n    </tr>\n  </tbody>\n</table>\n</div>",
            "text/plain": "          eppa_sum\ncount  2714.000000\nmean      0.630291\nstd       0.321244\nmin       0.078087\n25%       0.391682\n50%       0.589892\n75%       0.844659\nmax       1.669557"
          },
          "execution_count": 35,
          "metadata": {},
          "output_type": "execute_result"
        }
      ],
      "source": [
        "df[['eppa_sum']].describe()"
      ]
    },
    {
      "cell_type": "code",
      "execution_count": 46,
      "metadata": {},
      "outputs": [
        {
          "data": {
            "text/html": "<div>\n<style scoped>\n    .dataframe tbody tr th:only-of-type {\n        vertical-align: middle;\n    }\n\n    .dataframe tbody tr th {\n        vertical-align: top;\n    }\n\n    .dataframe thead th {\n        text-align: right;\n    }\n</style>\n<table border=\"1\" class=\"dataframe\">\n  <thead>\n    <tr style=\"text-align: right;\">\n      <th></th>\n      <th>gameId</th>\n      <th>playId</th>\n      <th>frameId</th>\n      <th>eppa_sum</th>\n    </tr>\n  </thead>\n  <tbody>\n    <tr>\n      <th>2446</th>\n      <td>2018093005</td>\n      <td>2703</td>\n      <td>24</td>\n      <td>1.669557</td>\n    </tr>\n    <tr>\n      <th>2447</th>\n      <td>2018093005</td>\n      <td>2703</td>\n      <td>25</td>\n      <td>1.660921</td>\n    </tr>\n    <tr>\n      <th>2442</th>\n      <td>2018093005</td>\n      <td>2703</td>\n      <td>20</td>\n      <td>1.660528</td>\n    </tr>\n    <tr>\n      <th>2441</th>\n      <td>2018093005</td>\n      <td>2703</td>\n      <td>19</td>\n      <td>1.658250</td>\n    </tr>\n    <tr>\n      <th>2443</th>\n      <td>2018093005</td>\n      <td>2703</td>\n      <td>21</td>\n      <td>1.657809</td>\n    </tr>\n    <tr>\n      <th>...</th>\n      <td>...</td>\n      <td>...</td>\n      <td>...</td>\n      <td>...</td>\n    </tr>\n    <tr>\n      <th>607</th>\n      <td>2018091001</td>\n      <td>3904</td>\n      <td>13</td>\n      <td>0.094118</td>\n    </tr>\n    <tr>\n      <th>606</th>\n      <td>2018091001</td>\n      <td>3904</td>\n      <td>12</td>\n      <td>0.089882</td>\n    </tr>\n    <tr>\n      <th>605</th>\n      <td>2018091001</td>\n      <td>3904</td>\n      <td>11</td>\n      <td>0.087769</td>\n    </tr>\n    <tr>\n      <th>2295</th>\n      <td>2018093002</td>\n      <td>1058</td>\n      <td>12</td>\n      <td>0.082920</td>\n    </tr>\n    <tr>\n      <th>2294</th>\n      <td>2018093002</td>\n      <td>1058</td>\n      <td>11</td>\n      <td>0.078087</td>\n    </tr>\n  </tbody>\n</table>\n<p>2714 rows × 4 columns</p>\n</div>",
            "text/plain": "          gameId playId  frameId  eppa_sum\n2446  2018093005   2703       24  1.669557\n2447  2018093005   2703       25  1.660921\n2442  2018093005   2703       20  1.660528\n2441  2018093005   2703       19  1.658250\n2443  2018093005   2703       21  1.657809\n...          ...    ...      ...       ...\n607   2018091001   3904       13  0.094118\n606   2018091001   3904       12  0.089882\n605   2018091001   3904       11  0.087769\n2295  2018093002   1058       12  0.082920\n2294  2018093002   1058       11  0.078087\n\n[2714 rows x 4 columns]"
          },
          "execution_count": 46,
          "metadata": {},
          "output_type": "execute_result"
        }
      ],
      "source": [
        "df.sort_values('eppa_sum', ascending=False)"
      ]
    },
    {
      "cell_type": "code",
      "execution_count": 66,
      "metadata": {
        "collapsed": true,
        "jupyter": {
          "outputs_hidden": false,
          "source_hidden": false
        },
        "nteract": {
          "transient": {
            "deleting": false
          }
        }
      },
      "outputs": [
        {
          "data": {
            "text/html": "<div>\n<style scoped>\n    .dataframe tbody tr th:only-of-type {\n        vertical-align: middle;\n    }\n\n    .dataframe tbody tr th {\n        vertical-align: top;\n    }\n\n    .dataframe thead th {\n        text-align: right;\n    }\n</style>\n<table border=\"1\" class=\"dataframe\">\n  <thead>\n    <tr style=\"text-align: right;\">\n      <th></th>\n      <th>gameId</th>\n      <th>drive_play_id_started</th>\n      <th>count</th>\n      <th>drive_result</th>\n      <th>total_yards</th>\n      <th>total_epa</th>\n      <th>total_eppa</th>\n      <th>passer_name</th>\n    </tr>\n  </thead>\n  <tbody>\n    <tr>\n      <th>0</th>\n      <td>2018090600</td>\n      <td>37</td>\n      <td>4</td>\n      <td>DOWNS</td>\n      <td>10</td>\n      <td>-1.655583</td>\n      <td>-0.078233</td>\n      <td>M.Ryan</td>\n    </tr>\n    <tr>\n      <th>1</th>\n      <td>2018090600</td>\n      <td>299</td>\n      <td>2</td>\n      <td>PUNT</td>\n      <td>4</td>\n      <td>-1.536305</td>\n      <td>0.456902</td>\n      <td>N.Foles</td>\n    </tr>\n    <tr>\n      <th>2</th>\n      <td>2018090600</td>\n      <td>402</td>\n      <td>5</td>\n      <td>FIELD_GOAL</td>\n      <td>29</td>\n      <td>0.259991</td>\n      <td>0.503018</td>\n      <td>M.Ryan</td>\n    </tr>\n    <tr>\n      <th>3</th>\n      <td>2018090600</td>\n      <td>677</td>\n      <td>1</td>\n      <td>PUNT</td>\n      <td>6</td>\n      <td>0.895417</td>\n      <td>-0.192395</td>\n      <td>N.Foles</td>\n    </tr>\n    <tr>\n      <th>4</th>\n      <td>2018090600</td>\n      <td>889</td>\n      <td>2</td>\n      <td>PUNT</td>\n      <td>-7</td>\n      <td>-2.463996</td>\n      <td>0.048063</td>\n      <td>M.Ryan</td>\n    </tr>\n  </tbody>\n</table>\n</div>",
            "text/plain": "       gameId  drive_play_id_started  count drive_result  total_yards  \\\n0  2018090600                     37      4        DOWNS           10   \n1  2018090600                    299      2         PUNT            4   \n2  2018090600                    402      5   FIELD_GOAL           29   \n3  2018090600                    677      1         PUNT            6   \n4  2018090600                    889      2         PUNT           -7   \n\n   total_epa  total_eppa passer_name  \n0  -1.655583   -0.078233      M.Ryan  \n1  -1.536305    0.456902     N.Foles  \n2   0.259991    0.503018      M.Ryan  \n3   0.895417   -0.192395     N.Foles  \n4  -2.463996    0.048063      M.Ryan  "
          },
          "execution_count": 66,
          "metadata": {},
          "output_type": "execute_result"
        }
      ],
      "source": [
        "df = pd.read_csv('./results/eppa_epa_yards.csv').drop(columns={'Unnamed: 0'})\n",
        "df.head()"
      ]
    },
    {
      "cell_type": "code",
      "execution_count": 67,
      "metadata": {},
      "outputs": [],
      "source": [
        "df['total_yards'] = df.groupby(['passer_name', 'gameId'], as_index=False).total_yards.transform('sum')\n",
        "df['total_epa'] = df.groupby(['passer_name', 'gameId'], as_index=False).total_epa.transform('sum')\n",
        "df['total_eppa'] = df.groupby(['passer_name', 'gameId'], as_index=False).total_eppa.transform('sum')\n",
        "df['games'] = df.groupby(['passer_name'], as_index=False).gameId.transform('nunique')\n",
        "# df = df.loc[df.total_yards>10]"
      ]
    },
    {
      "cell_type": "code",
      "execution_count": 75,
      "metadata": {},
      "outputs": [
        {
          "data": {
            "text/plain": "array([16, 14, 15, 13])"
          },
          "execution_count": 75,
          "metadata": {},
          "output_type": "execute_result"
        }
      ],
      "source": [
        "tots = df.groupby(['passer_name', 'gameId'], as_index=False)[['passer_name', 'gameId', 'games', 'total_yards', 'total_epa', 'total_eppa']].head(1).loc[df.games>12]\n",
        "tots.groupby(['passer_name', ])"
      ]
    },
    {
      "cell_type": "code",
      "execution_count": 69,
      "metadata": {},
      "outputs": [],
      "source": [
        "import numpy as np"
      ]
    },
    {
      "cell_type": "code",
      "execution_count": 70,
      "metadata": {},
      "outputs": [
        {
          "data": {
            "text/plain": "0.25298936883935397"
          },
          "execution_count": 70,
          "metadata": {},
          "output_type": "execute_result"
        }
      ],
      "source": [
        "tots.sort_values(['passer_name', 'gameId']).total_yards.autocorr()"
      ]
    },
    {
      "cell_type": "code",
      "execution_count": 71,
      "metadata": {},
      "outputs": [
        {
          "data": {
            "text/plain": "0.15308730201437518"
          },
          "execution_count": 71,
          "metadata": {},
          "output_type": "execute_result"
        }
      ],
      "source": [
        "tots.sort_values(['passer_name', 'gameId']).total_epa.autocorr()"
      ]
    },
    {
      "cell_type": "code",
      "execution_count": 72,
      "metadata": {},
      "outputs": [
        {
          "data": {
            "text/plain": "0.020599420370688033"
          },
          "execution_count": 72,
          "metadata": {},
          "output_type": "execute_result"
        }
      ],
      "source": [
        "tots.sort_values(['passer_name', 'gameId']).total_eppa.autocorr()"
      ]
    },
    {
      "cell_type": "code",
      "execution_count": 65,
      "metadata": {},
      "outputs": [
        {
          "data": {
            "text/plain": "-0.07302671749260502"
          },
          "execution_count": 65,
          "metadata": {},
          "output_type": "execute_result"
        }
      ],
      "source": [
        "totY.loc[totY.passer_name=='M.Ryan'].sort_values(['passer_name', 'gameId']).total_yards.autocorr()"
      ]
    },
    {
      "cell_type": "code",
      "execution_count": 33,
      "metadata": {},
      "outputs": [
        {
          "data": {
            "text/plain": "-0.032567570393464376"
          },
          "execution_count": 33,
          "metadata": {},
          "output_type": "execute_result"
        }
      ],
      "source": [
        "totY.sample(frac=1).total_yards.autocorr()"
      ]
    },
    {
      "cell_type": "code",
      "execution_count": null,
      "metadata": {},
      "outputs": [],
      "source": []
    }
  ],
  "metadata": {
    "kernel_info": {
      "name": "python3"
    },
    "kernelspec": {
      "display_name": "Python 3",
      "language": "python",
      "name": "python3"
    },
    "language_info": {
      "codemirror_mode": {
        "name": "ipython",
        "version": 3
      },
      "file_extension": ".py",
      "mimetype": "text/x-python",
      "name": "python",
      "nbconvert_exporter": "python",
      "pygments_lexer": "ipython3",
      "version": "3.8.2-final"
    },
    "nteract": {
      "version": "nteract-front-end@1.0.0"
    },
    "orig_nbformat": 2
  },
  "nbformat": 4,
  "nbformat_minor": 2
}